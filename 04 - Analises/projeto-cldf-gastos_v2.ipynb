{
 "cells": [
  {
   "cell_type": "markdown",
   "metadata": {},
   "source": [
    " ![conjuntodedados.jpg](Downloads\\Data science\\Projeto cldf\\Python-master\\Gastos públicos dos deputados\\03 - Dados de upload\\conjuntodedados.jpg)\n",
    " \n",
    " Análise descritiva de Gastos públicos dos deputados da CLDF \n",
    "-----------------------------------------\n",
    "#### @author: Luiz Eduardo \n",
    "### [Linkedin](www.linkedin.com/in/isweluiz)\n",
    "\n",
    "------------------\n",
    "Descrição: A transparência no trabalho dos governantes e das instituições e empresas públicas é obrigatória no Brasil. A Lei de Acesso à Informação - LAI, de 2011, garante o direito de solicitar e receber informações de órgãos públicos, de forma gratuita, para qualquer cidadão ou entidade. Esse acesso livre à informação permite que todos os cidadãos tenham a mesma capacidade de fiscalizar, monitorar, conhecer e discutir os gastos, as ações e as decisões das entidades.\n",
    "\n",
    "\n",
    "\n",
    "> ### Índice\n",
    "> Limpeza de Dados (Data Cleaning)\n",
    "\n",
    "> Análise dos Dados (Data Analysis)\n",
    "\n",
    "> Visualização dos Dados (Data Visualization)\n",
    "\n",
    "> Conclusão\n",
    "\n",
    "\n",
    "> ### Escopo da análise\n",
    "\n",
    "> Extração dos dados da CLDF no link [Dados Abertos CLDF](dosabertos.cl.df.gov.br) \n",
    "\n",
    "> Anális dos dados (data analysis)\n",
    "\n",
    "> Qual deputado que mais gastou? Em qual periódo do ano ele(a) mais gastou?\n",
    "\n",
    "> Qual deputado que menos gastou neste período?\n",
    "\n",
    ">Quais forncedores receberam os maiores valores?"
   ]
  },
  {
   "cell_type": "markdown",
   "metadata": {},
   "source": [
    "## Cronograma apresentado na 1ª apresentação \n",
    " > * Escolha da linguagem de programação \n",
    " > * Extração, limpeza e análise dos dados \n",
    " > * Análise descritiva dos dados. Apresentação dos dados em tabelas e gráficos\n"
   ]
  },
  {
   "cell_type": "code",
   "execution_count": 251,
   "metadata": {},
   "outputs": [],
   "source": [
    "import random\n",
    "from datetime import datetime\n",
    "from matplotlib.lines import Line2D\n",
    "import matplotlib.pyplot as plt # Bibilioteca util para criar gráficos\n",
    "import pandas as pd # Bibilioteca para auxiliar a criamos nossos dataframes\n",
    "import numpy as np # Bibilioteca útil para realizar operações matemáticas\n",
    "import seaborn as sns \n",
    "from collections import Counter"
   ]
  },
  {
   "cell_type": "code",
   "execution_count": 4,
   "metadata": {},
   "outputs": [],
   "source": [
    "plt.style.use('ggplot') \n",
    "colors = [['#0D47A1','#1565C0','#1976D2','#1E88E5','#2196F3'],\n",
    "          ['#311B92','#512DA8','#673AB7','#9575CD','#B39DDB'],\n",
    "          ['#1B5E20','#388E3C','#4CAF50','#81C784','#66BB6A'],\n",
    "          ['#E65100','#EF6C00','#F57C00','#FB8C00','#FF9800'],\n",
    "          ['#3E2723','#4E342E','#5D4037','#6D4C41','#795548'],\n",
    "          ['#BF360C','#D84315','#E64A19','#F4511E','#FF5722'],\n",
    "          ['#880E4F','#AD1457','#C2185B','#D81B60','#E91E63']\n",
    "         ]\n",
    "#colors = [\"red\",\"green\",\"blue\",\"orange\",\"purple\",\"pink\",\"yellow\"]"
   ]
  },
  {
   "cell_type": "code",
   "execution_count": 5,
   "metadata": {},
   "outputs": [],
   "source": [
    "verba2014 = pd.read_excel(r'Downloads\\Data science\\Projeto cldf\\Python-master\\Gastos públicos dos deputados\\02 - Dados Preparadps\\verba_indenizatoria_2014.xlsx')\n",
    "verba2015 = pd.read_excel(r'Downloads\\Data science\\Projeto cldf\\Python-master\\Gastos públicos dos deputados\\02 - Dados Preparadps\\verba_indenizatoria_2015.xlsx')\n",
    "verba2016 = pd.read_excel(r'Downloads\\Data science\\Projeto cldf\\Python-master\\Gastos públicos dos deputados\\02 - Dados Preparadps\\verba_indenizatoria_2016.xlsx')\n",
    "verba2017 = pd.read_excel(r'verba_indenizatoria_2017_v2.xlsx')"
   ]
  },
  {
   "cell_type": "markdown",
   "metadata": {},
   "source": [
    "## Previa dos dados\n",
    "> ## Análise e organização dos dados\n",
    "\n",
    "### Quais sao os problemas com essa importação?\n",
    "> ### Valores vazios\n",
    "> ### Valores com dados incorretos\n"
   ]
  },
  {
   "cell_type": "code",
   "execution_count": 6,
   "metadata": {},
   "outputs": [
    {
     "data": {
      "text/html": [
       "<div>\n",
       "<style scoped>\n",
       "    .dataframe tbody tr th:only-of-type {\n",
       "        vertical-align: middle;\n",
       "    }\n",
       "\n",
       "    .dataframe tbody tr th {\n",
       "        vertical-align: top;\n",
       "    }\n",
       "\n",
       "    .dataframe thead th {\n",
       "        text-align: right;\n",
       "    }\n",
       "</style>\n",
       "<table border=\"1\" class=\"dataframe\">\n",
       "  <thead>\n",
       "    <tr style=\"text-align: right;\">\n",
       "      <th></th>\n",
       "      <th>Gabinete</th>\n",
       "      <th>Nome</th>\n",
       "      <th>CPF</th>\n",
       "      <th>EMPRESA (OU PROFISSIONAL)</th>\n",
       "      <th>CNPJ(ouCPF)</th>\n",
       "      <th>Data de Emissão</th>\n",
       "      <th>NºDocumento</th>\n",
       "      <th>Valor</th>\n",
       "      <th>Unnamed: 8</th>\n",
       "      <th>Unnamed: 9</th>\n",
       "    </tr>\n",
       "  </thead>\n",
       "  <tbody>\n",
       "    <tr>\n",
       "      <th>0</th>\n",
       "      <td>19</td>\n",
       "      <td>Deputado Robério Negreiros</td>\n",
       "      <td>696.291.101-72</td>\n",
       "      <td>PATRIMÔNIO GESTÃO CONDOMINIAL</td>\n",
       "      <td>37.136.934/0001-65</td>\n",
       "      <td>2013-12-24 00:00:00</td>\n",
       "      <td>3105</td>\n",
       "      <td>318.01</td>\n",
       "      <td>NaN</td>\n",
       "      <td>NaN</td>\n",
       "    </tr>\n",
       "    <tr>\n",
       "      <th>1</th>\n",
       "      <td>21</td>\n",
       "      <td>Deputado Chico Leite</td>\n",
       "      <td>317.640.021-72</td>\n",
       "      <td>COND. ESCRITÓRIO PARLAMENTAR, LOJA 15- 1º SUBSOLO</td>\n",
       "      <td>01.225.747/0001-00</td>\n",
       "      <td>2013-12-13 00:00:00</td>\n",
       "      <td>10077</td>\n",
       "      <td>494.64</td>\n",
       "      <td>NaN</td>\n",
       "      <td>NaN</td>\n",
       "    </tr>\n",
       "    <tr>\n",
       "      <th>2</th>\n",
       "      <td>21</td>\n",
       "      <td>Deputado Chico Leite</td>\n",
       "      <td>317.640.021-72</td>\n",
       "      <td>COND. ESCRITÓRIO PARLAMENTAR, LOJA 15- TÉRREO</td>\n",
       "      <td>01.225.747/0001-00</td>\n",
       "      <td>2013-12-13 00:00:00</td>\n",
       "      <td>10092</td>\n",
       "      <td>502.19</td>\n",
       "      <td>NaN</td>\n",
       "      <td>NaN</td>\n",
       "    </tr>\n",
       "    <tr>\n",
       "      <th>3</th>\n",
       "      <td>24</td>\n",
       "      <td>Deputada Luzia de Paula</td>\n",
       "      <td>182.811.251-87</td>\n",
       "      <td>POSTO MONUMENTAL</td>\n",
       "      <td>05.454.390/0001-93</td>\n",
       "      <td>2013-12-19 00:00:00</td>\n",
       "      <td>170745</td>\n",
       "      <td>180.73</td>\n",
       "      <td>NaN</td>\n",
       "      <td>NaN</td>\n",
       "    </tr>\n",
       "    <tr>\n",
       "      <th>4</th>\n",
       "      <td>24</td>\n",
       "      <td>Deputada Luzia de Paula</td>\n",
       "      <td>182.811.251-87</td>\n",
       "      <td>AUTO POSTO SÃO MATEUS LTDA.</td>\n",
       "      <td>07.870.568/0001-02</td>\n",
       "      <td>2013-12-12 00:00:00</td>\n",
       "      <td>41618</td>\n",
       "      <td>110.00</td>\n",
       "      <td>NaN</td>\n",
       "      <td>NaN</td>\n",
       "    </tr>\n",
       "  </tbody>\n",
       "</table>\n",
       "</div>"
      ],
      "text/plain": [
       "   Gabinete                        Nome             CPF  \\\n",
       "0        19  Deputado Robério Negreiros  696.291.101-72   \n",
       "1        21        Deputado Chico Leite  317.640.021-72   \n",
       "2        21        Deputado Chico Leite  317.640.021-72   \n",
       "3        24     Deputada Luzia de Paula  182.811.251-87   \n",
       "4        24     Deputada Luzia de Paula  182.811.251-87   \n",
       "\n",
       "                           EMPRESA (OU PROFISSIONAL)         CNPJ(ouCPF)  \\\n",
       "0                      PATRIMÔNIO GESTÃO CONDOMINIAL  37.136.934/0001-65   \n",
       "1  COND. ESCRITÓRIO PARLAMENTAR, LOJA 15- 1º SUBSOLO  01.225.747/0001-00   \n",
       "2      COND. ESCRITÓRIO PARLAMENTAR, LOJA 15- TÉRREO  01.225.747/0001-00   \n",
       "3                                   POSTO MONUMENTAL  05.454.390/0001-93   \n",
       "4                        AUTO POSTO SÃO MATEUS LTDA.  07.870.568/0001-02   \n",
       "\n",
       "       Data de Emissão NºDocumento   Valor  Unnamed: 8 Unnamed: 9  \n",
       "0  2013-12-24 00:00:00        3105  318.01         NaN        NaN  \n",
       "1  2013-12-13 00:00:00       10077  494.64         NaN        NaN  \n",
       "2  2013-12-13 00:00:00       10092  502.19         NaN        NaN  \n",
       "3  2013-12-19 00:00:00      170745  180.73         NaN        NaN  \n",
       "4  2013-12-12 00:00:00       41618  110.00         NaN        NaN  "
      ]
     },
     "execution_count": 6,
     "metadata": {},
     "output_type": "execute_result"
    }
   ],
   "source": [
    "verba2014.head(5)"
   ]
  },
  {
   "cell_type": "code",
   "execution_count": 7,
   "metadata": {},
   "outputs": [
    {
     "data": {
      "text/html": [
       "<div>\n",
       "<style scoped>\n",
       "    .dataframe tbody tr th:only-of-type {\n",
       "        vertical-align: middle;\n",
       "    }\n",
       "\n",
       "    .dataframe tbody tr th {\n",
       "        vertical-align: top;\n",
       "    }\n",
       "\n",
       "    .dataframe thead th {\n",
       "        text-align: right;\n",
       "    }\n",
       "</style>\n",
       "<table border=\"1\" class=\"dataframe\">\n",
       "  <thead>\n",
       "    <tr style=\"text-align: right;\">\n",
       "      <th></th>\n",
       "      <th>Gabinete</th>\n",
       "      <th>Nome</th>\n",
       "      <th>CPF</th>\n",
       "      <th>EMPRESA (OU PROFISSIONAL)</th>\n",
       "      <th>CNPJ(ouCPF)</th>\n",
       "      <th>Data de Emissão</th>\n",
       "      <th>NºDocumento</th>\n",
       "      <th>Valor</th>\n",
       "      <th>Unnamed: 8</th>\n",
       "      <th>Unnamed: 9</th>\n",
       "    </tr>\n",
       "  </thead>\n",
       "  <tbody>\n",
       "    <tr>\n",
       "      <th>0</th>\n",
       "      <td>19</td>\n",
       "      <td>Deputado Robério Negreiros</td>\n",
       "      <td>696.291.101-72</td>\n",
       "      <td>PATRIMÔNIO GESTÃO CONDOMINIAL</td>\n",
       "      <td>37.136.934/0001-65</td>\n",
       "      <td>2013-12-24 00:00:00</td>\n",
       "      <td>3105</td>\n",
       "      <td>318.01</td>\n",
       "      <td>NaN</td>\n",
       "      <td>NaN</td>\n",
       "    </tr>\n",
       "    <tr>\n",
       "      <th>1</th>\n",
       "      <td>21</td>\n",
       "      <td>Deputado Chico Leite</td>\n",
       "      <td>317.640.021-72</td>\n",
       "      <td>COND. ESCRITÓRIO PARLAMENTAR, LOJA 15- 1º SUBSOLO</td>\n",
       "      <td>01.225.747/0001-00</td>\n",
       "      <td>2013-12-13 00:00:00</td>\n",
       "      <td>10077</td>\n",
       "      <td>494.64</td>\n",
       "      <td>NaN</td>\n",
       "      <td>NaN</td>\n",
       "    </tr>\n",
       "    <tr>\n",
       "      <th>2</th>\n",
       "      <td>21</td>\n",
       "      <td>Deputado Chico Leite</td>\n",
       "      <td>317.640.021-72</td>\n",
       "      <td>COND. ESCRITÓRIO PARLAMENTAR, LOJA 15- TÉRREO</td>\n",
       "      <td>01.225.747/0001-00</td>\n",
       "      <td>2013-12-13 00:00:00</td>\n",
       "      <td>10092</td>\n",
       "      <td>502.19</td>\n",
       "      <td>NaN</td>\n",
       "      <td>NaN</td>\n",
       "    </tr>\n",
       "    <tr>\n",
       "      <th>3</th>\n",
       "      <td>24</td>\n",
       "      <td>Deputada Luzia de Paula</td>\n",
       "      <td>182.811.251-87</td>\n",
       "      <td>POSTO MONUMENTAL</td>\n",
       "      <td>05.454.390/0001-93</td>\n",
       "      <td>2013-12-19 00:00:00</td>\n",
       "      <td>170745</td>\n",
       "      <td>180.73</td>\n",
       "      <td>NaN</td>\n",
       "      <td>NaN</td>\n",
       "    </tr>\n",
       "    <tr>\n",
       "      <th>4</th>\n",
       "      <td>24</td>\n",
       "      <td>Deputada Luzia de Paula</td>\n",
       "      <td>182.811.251-87</td>\n",
       "      <td>AUTO POSTO SÃO MATEUS LTDA.</td>\n",
       "      <td>07.870.568/0001-02</td>\n",
       "      <td>2013-12-12 00:00:00</td>\n",
       "      <td>41618</td>\n",
       "      <td>110.00</td>\n",
       "      <td>NaN</td>\n",
       "      <td>NaN</td>\n",
       "    </tr>\n",
       "  </tbody>\n",
       "</table>\n",
       "</div>"
      ],
      "text/plain": [
       "   Gabinete                        Nome             CPF  \\\n",
       "0        19  Deputado Robério Negreiros  696.291.101-72   \n",
       "1        21        Deputado Chico Leite  317.640.021-72   \n",
       "2        21        Deputado Chico Leite  317.640.021-72   \n",
       "3        24     Deputada Luzia de Paula  182.811.251-87   \n",
       "4        24     Deputada Luzia de Paula  182.811.251-87   \n",
       "\n",
       "                           EMPRESA (OU PROFISSIONAL)         CNPJ(ouCPF)  \\\n",
       "0                      PATRIMÔNIO GESTÃO CONDOMINIAL  37.136.934/0001-65   \n",
       "1  COND. ESCRITÓRIO PARLAMENTAR, LOJA 15- 1º SUBSOLO  01.225.747/0001-00   \n",
       "2      COND. ESCRITÓRIO PARLAMENTAR, LOJA 15- TÉRREO  01.225.747/0001-00   \n",
       "3                                   POSTO MONUMENTAL  05.454.390/0001-93   \n",
       "4                        AUTO POSTO SÃO MATEUS LTDA.  07.870.568/0001-02   \n",
       "\n",
       "       Data de Emissão NºDocumento   Valor  Unnamed: 8 Unnamed: 9  \n",
       "0  2013-12-24 00:00:00        3105  318.01         NaN        NaN  \n",
       "1  2013-12-13 00:00:00       10077  494.64         NaN        NaN  \n",
       "2  2013-12-13 00:00:00       10092  502.19         NaN        NaN  \n",
       "3  2013-12-19 00:00:00      170745  180.73         NaN        NaN  \n",
       "4  2013-12-12 00:00:00       41618  110.00         NaN        NaN  "
      ]
     },
     "execution_count": 7,
     "metadata": {},
     "output_type": "execute_result"
    }
   ],
   "source": [
    "verba2014.head(5)"
   ]
  },
  {
   "cell_type": "code",
   "execution_count": 8,
   "metadata": {},
   "outputs": [
    {
     "data": {
      "text/html": [
       "<div>\n",
       "<style scoped>\n",
       "    .dataframe tbody tr th:only-of-type {\n",
       "        vertical-align: middle;\n",
       "    }\n",
       "\n",
       "    .dataframe tbody tr th {\n",
       "        vertical-align: top;\n",
       "    }\n",
       "\n",
       "    .dataframe thead th {\n",
       "        text-align: right;\n",
       "    }\n",
       "</style>\n",
       "<table border=\"1\" class=\"dataframe\">\n",
       "  <thead>\n",
       "    <tr style=\"text-align: right;\">\n",
       "      <th></th>\n",
       "      <th>GAB</th>\n",
       "      <th>DEPUTADO</th>\n",
       "      <th>CPF</th>\n",
       "      <th>LOCAL</th>\n",
       "      <th>CNPJ</th>\n",
       "      <th>DATA</th>\n",
       "      <th>NUMERO</th>\n",
       "      <th>VALOR</th>\n",
       "      <th>Unnamed: 8</th>\n",
       "      <th>Unnamed: 9</th>\n",
       "      <th>...</th>\n",
       "      <th>Unnamed: 17</th>\n",
       "      <th>Unnamed: 18</th>\n",
       "      <th>Unnamed: 19</th>\n",
       "      <th>Unnamed: 20</th>\n",
       "      <th>Unnamed: 21</th>\n",
       "      <th>Unnamed: 22</th>\n",
       "      <th>Unnamed: 23</th>\n",
       "      <th>Unnamed: 24</th>\n",
       "      <th>Unnamed: 25</th>\n",
       "      <th>Unnamed: 26</th>\n",
       "    </tr>\n",
       "  </thead>\n",
       "  <tbody>\n",
       "    <tr>\n",
       "      <th>0</th>\n",
       "      <td>16</td>\n",
       "      <td>Deputada Liliane Roriz</td>\n",
       "      <td>265.556.111/20</td>\n",
       "      <td>QUALITY ALUGUEL DE VEICULOS LTDA</td>\n",
       "      <td>72.653.009/0001/02</td>\n",
       "      <td>2015-02-04 00:00:00</td>\n",
       "      <td>000.025.140</td>\n",
       "      <td>6644.29</td>\n",
       "      <td>NaN</td>\n",
       "      <td>NaN</td>\n",
       "      <td>...</td>\n",
       "      <td>NaN</td>\n",
       "      <td>NaN</td>\n",
       "      <td>NaN</td>\n",
       "      <td>NaN</td>\n",
       "      <td>NaN</td>\n",
       "      <td>NaN</td>\n",
       "      <td>NaN</td>\n",
       "      <td>NaN</td>\n",
       "      <td>NaN</td>\n",
       "      <td>NaN</td>\n",
       "    </tr>\n",
       "    <tr>\n",
       "      <th>1</th>\n",
       "      <td>16</td>\n",
       "      <td>Deputada Liliane Roriz</td>\n",
       "      <td>265.556.111/20</td>\n",
       "      <td>PETRONORTE COMBUSTÍVEIS LTDA</td>\n",
       "      <td>06.071.706/0001/20</td>\n",
       "      <td>2015-01-30 00:00:00</td>\n",
       "      <td>3079</td>\n",
       "      <td>1548.6</td>\n",
       "      <td>NaN</td>\n",
       "      <td>NaN</td>\n",
       "      <td>...</td>\n",
       "      <td>NaN</td>\n",
       "      <td>NaN</td>\n",
       "      <td>NaN</td>\n",
       "      <td>NaN</td>\n",
       "      <td>NaN</td>\n",
       "      <td>NaN</td>\n",
       "      <td>NaN</td>\n",
       "      <td>NaN</td>\n",
       "      <td>NaN</td>\n",
       "      <td>NaN</td>\n",
       "    </tr>\n",
       "    <tr>\n",
       "      <th>2</th>\n",
       "      <td>24</td>\n",
       "      <td>Deputada Luzia de Paula</td>\n",
       "      <td>182.811.251/87</td>\n",
       "      <td>AUTO POSTO NM 16 LTDA</td>\n",
       "      <td>11.948.180/0001/54</td>\n",
       "      <td>2015-01-23 00:00:00</td>\n",
       "      <td>019105</td>\n",
       "      <td>143.04</td>\n",
       "      <td>NaN</td>\n",
       "      <td>NaN</td>\n",
       "      <td>...</td>\n",
       "      <td>NaN</td>\n",
       "      <td>NaN</td>\n",
       "      <td>NaN</td>\n",
       "      <td>NaN</td>\n",
       "      <td>NaN</td>\n",
       "      <td>NaN</td>\n",
       "      <td>NaN</td>\n",
       "      <td>NaN</td>\n",
       "      <td>NaN</td>\n",
       "      <td>NaN</td>\n",
       "    </tr>\n",
       "    <tr>\n",
       "      <th>3</th>\n",
       "      <td>24</td>\n",
       "      <td>Deputada Luzia de Paula</td>\n",
       "      <td>182.811.251/87</td>\n",
       "      <td>BR 070 COMERCIO DE DERIVADOS DE PETROLEO LTDA</td>\n",
       "      <td>38.053.450/0001/15</td>\n",
       "      <td>2015-01-10 00:00:00</td>\n",
       "      <td>233879</td>\n",
       "      <td>100</td>\n",
       "      <td>NaN</td>\n",
       "      <td>NaN</td>\n",
       "      <td>...</td>\n",
       "      <td>NaN</td>\n",
       "      <td>NaN</td>\n",
       "      <td>NaN</td>\n",
       "      <td>NaN</td>\n",
       "      <td>NaN</td>\n",
       "      <td>NaN</td>\n",
       "      <td>NaN</td>\n",
       "      <td>NaN</td>\n",
       "      <td>NaN</td>\n",
       "      <td>NaN</td>\n",
       "    </tr>\n",
       "    <tr>\n",
       "      <th>4</th>\n",
       "      <td>24</td>\n",
       "      <td>Deputada Luzia de Paula</td>\n",
       "      <td>182.811.251/87</td>\n",
       "      <td>BR 070 COMERCIO DE DERIVADO DE PETROLEO LTDA</td>\n",
       "      <td>38.053.450/0001/15</td>\n",
       "      <td>2015-01-21 00:00:00</td>\n",
       "      <td>234206</td>\n",
       "      <td>198.58</td>\n",
       "      <td>NaN</td>\n",
       "      <td>NaN</td>\n",
       "      <td>...</td>\n",
       "      <td>NaN</td>\n",
       "      <td>NaN</td>\n",
       "      <td>NaN</td>\n",
       "      <td>NaN</td>\n",
       "      <td>NaN</td>\n",
       "      <td>NaN</td>\n",
       "      <td>NaN</td>\n",
       "      <td>NaN</td>\n",
       "      <td>NaN</td>\n",
       "      <td>NaN</td>\n",
       "    </tr>\n",
       "  </tbody>\n",
       "</table>\n",
       "<p>5 rows × 27 columns</p>\n",
       "</div>"
      ],
      "text/plain": [
       "   GAB                 DEPUTADO             CPF  \\\n",
       "0   16   Deputada Liliane Roriz  265.556.111/20   \n",
       "1   16   Deputada Liliane Roriz  265.556.111/20   \n",
       "2   24  Deputada Luzia de Paula  182.811.251/87   \n",
       "3   24  Deputada Luzia de Paula  182.811.251/87   \n",
       "4   24  Deputada Luzia de Paula  182.811.251/87   \n",
       "\n",
       "                                           LOCAL                CNPJ  \\\n",
       "0               QUALITY ALUGUEL DE VEICULOS LTDA  72.653.009/0001/02   \n",
       "1                   PETRONORTE COMBUSTÍVEIS LTDA  06.071.706/0001/20   \n",
       "2                          AUTO POSTO NM 16 LTDA  11.948.180/0001/54   \n",
       "3  BR 070 COMERCIO DE DERIVADOS DE PETROLEO LTDA  38.053.450/0001/15   \n",
       "4   BR 070 COMERCIO DE DERIVADO DE PETROLEO LTDA  38.053.450/0001/15   \n",
       "\n",
       "                  DATA       NUMERO    VALOR  Unnamed: 8  Unnamed: 9  \\\n",
       "0  2015-02-04 00:00:00  000.025.140  6644.29         NaN         NaN   \n",
       "1  2015-01-30 00:00:00         3079   1548.6         NaN         NaN   \n",
       "2  2015-01-23 00:00:00       019105   143.04         NaN         NaN   \n",
       "3  2015-01-10 00:00:00       233879      100         NaN         NaN   \n",
       "4  2015-01-21 00:00:00       234206   198.58         NaN         NaN   \n",
       "\n",
       "      ...       Unnamed: 17  Unnamed: 18  Unnamed: 19  Unnamed: 20  \\\n",
       "0     ...               NaN          NaN          NaN          NaN   \n",
       "1     ...               NaN          NaN          NaN          NaN   \n",
       "2     ...               NaN          NaN          NaN          NaN   \n",
       "3     ...               NaN          NaN          NaN          NaN   \n",
       "4     ...               NaN          NaN          NaN          NaN   \n",
       "\n",
       "   Unnamed: 21  Unnamed: 22  Unnamed: 23  Unnamed: 24  Unnamed: 25  \\\n",
       "0          NaN          NaN          NaN          NaN          NaN   \n",
       "1          NaN          NaN          NaN          NaN          NaN   \n",
       "2          NaN          NaN          NaN          NaN          NaN   \n",
       "3          NaN          NaN          NaN          NaN          NaN   \n",
       "4          NaN          NaN          NaN          NaN          NaN   \n",
       "\n",
       "   Unnamed: 26  \n",
       "0          NaN  \n",
       "1          NaN  \n",
       "2          NaN  \n",
       "3          NaN  \n",
       "4          NaN  \n",
       "\n",
       "[5 rows x 27 columns]"
      ]
     },
     "execution_count": 8,
     "metadata": {},
     "output_type": "execute_result"
    }
   ],
   "source": [
    "verba2015.head(5)"
   ]
  },
  {
   "cell_type": "code",
   "execution_count": 9,
   "metadata": {},
   "outputs": [
    {
     "data": {
      "text/html": [
       "<div>\n",
       "<style scoped>\n",
       "    .dataframe tbody tr th:only-of-type {\n",
       "        vertical-align: middle;\n",
       "    }\n",
       "\n",
       "    .dataframe tbody tr th {\n",
       "        vertical-align: top;\n",
       "    }\n",
       "\n",
       "    .dataframe thead th {\n",
       "        text-align: right;\n",
       "    }\n",
       "</style>\n",
       "<table border=\"1\" class=\"dataframe\">\n",
       "  <thead>\n",
       "    <tr style=\"text-align: right;\">\n",
       "      <th></th>\n",
       "      <th>Gabinete</th>\n",
       "      <th>Nome</th>\n",
       "      <th>CPF</th>\n",
       "      <th>EMPRESA (OU PROFISSIONAL)</th>\n",
       "      <th>CNPJ (ou CPF)</th>\n",
       "      <th>Data de Emissão</th>\n",
       "      <th>Nº Documento</th>\n",
       "      <th>Valor</th>\n",
       "    </tr>\n",
       "  </thead>\n",
       "  <tbody>\n",
       "    <tr>\n",
       "      <th>0</th>\n",
       "      <td>16</td>\n",
       "      <td>Deputada Liliane Roriz</td>\n",
       "      <td>265.556.111-20</td>\n",
       "      <td>2M PRODUÇÃO DIGITAL E COMUNICAÇÃO LTDA ME</td>\n",
       "      <td>22.425.647/0001-06</td>\n",
       "      <td>2016-02-04</td>\n",
       "      <td>000.000 043</td>\n",
       "      <td>6000</td>\n",
       "    </tr>\n",
       "    <tr>\n",
       "      <th>1</th>\n",
       "      <td>24</td>\n",
       "      <td>Deputada Luzia de Paula</td>\n",
       "      <td>182.811.251-87</td>\n",
       "      <td>MARINHO &amp; ADVOGADOS</td>\n",
       "      <td>14.633.138/0001-32</td>\n",
       "      <td>2016-01-29</td>\n",
       "      <td>0 153</td>\n",
       "      <td>8000</td>\n",
       "    </tr>\n",
       "    <tr>\n",
       "      <th>2</th>\n",
       "      <td>24</td>\n",
       "      <td>Deputada Luzia de Paula</td>\n",
       "      <td>182.811.251-87</td>\n",
       "      <td>POSTO QNO</td>\n",
       "      <td>00.805.827/0001-72</td>\n",
       "      <td>2016-01-14</td>\n",
       "      <td>120501</td>\n",
       "      <td>100</td>\n",
       "    </tr>\n",
       "    <tr>\n",
       "      <th>3</th>\n",
       "      <td>24</td>\n",
       "      <td>Deputada Luzia de Paula</td>\n",
       "      <td>182.811.251-87</td>\n",
       "      <td>POSTO COLINA</td>\n",
       "      <td>24.912.669/0001-18</td>\n",
       "      <td>NaT</td>\n",
       "      <td>354151</td>\n",
       "      <td>187.34</td>\n",
       "    </tr>\n",
       "    <tr>\n",
       "      <th>4</th>\n",
       "      <td>24</td>\n",
       "      <td>Deputada Luzia de Paula</td>\n",
       "      <td>182.811.251-87</td>\n",
       "      <td>POSTO DISBRAVE GUARA</td>\n",
       "      <td>00.543.213/0004-02</td>\n",
       "      <td>2016-01-27</td>\n",
       "      <td>468254</td>\n",
       "      <td>175.75</td>\n",
       "    </tr>\n",
       "  </tbody>\n",
       "</table>\n",
       "</div>"
      ],
      "text/plain": [
       "   Gabinete                     Nome             CPF  \\\n",
       "0        16   Deputada Liliane Roriz  265.556.111-20   \n",
       "1        24  Deputada Luzia de Paula  182.811.251-87   \n",
       "2        24  Deputada Luzia de Paula  182.811.251-87   \n",
       "3        24  Deputada Luzia de Paula  182.811.251-87   \n",
       "4        24  Deputada Luzia de Paula  182.811.251-87   \n",
       "\n",
       "                   EMPRESA (OU PROFISSIONAL)       CNPJ (ou CPF)  \\\n",
       "0  2M PRODUÇÃO DIGITAL E COMUNICAÇÃO LTDA ME  22.425.647/0001-06   \n",
       "1                        MARINHO & ADVOGADOS  14.633.138/0001-32   \n",
       "2                                  POSTO QNO  00.805.827/0001-72   \n",
       "3                               POSTO COLINA  24.912.669/0001-18   \n",
       "4                       POSTO DISBRAVE GUARA  00.543.213/0004-02   \n",
       "\n",
       "  Data de Emissão  Nº Documento   Valor  \n",
       "0      2016-02-04  000.000 043     6000  \n",
       "1      2016-01-29         0 153    8000  \n",
       "2      2016-01-14        120501     100  \n",
       "3             NaT        354151  187.34  \n",
       "4      2016-01-27        468254  175.75  "
      ]
     },
     "execution_count": 9,
     "metadata": {},
     "output_type": "execute_result"
    }
   ],
   "source": [
    "verba2016.head(5)"
   ]
  },
  {
   "cell_type": "code",
   "execution_count": 10,
   "metadata": {},
   "outputs": [
    {
     "data": {
      "text/html": [
       "<div>\n",
       "<style scoped>\n",
       "    .dataframe tbody tr th:only-of-type {\n",
       "        vertical-align: middle;\n",
       "    }\n",
       "\n",
       "    .dataframe tbody tr th {\n",
       "        vertical-align: top;\n",
       "    }\n",
       "\n",
       "    .dataframe thead th {\n",
       "        text-align: right;\n",
       "    }\n",
       "</style>\n",
       "<table border=\"1\" class=\"dataframe\">\n",
       "  <thead>\n",
       "    <tr style=\"text-align: right;\">\n",
       "      <th></th>\n",
       "      <th>Gabinete</th>\n",
       "      <th>Nome</th>\n",
       "      <th>CPF</th>\n",
       "      <th>Empresa (ou Profissional)</th>\n",
       "      <th>CNPJ (ou CPF)</th>\n",
       "      <th>Data de Emissão</th>\n",
       "      <th>Mês</th>\n",
       "      <th>Nº Documento</th>\n",
       "      <th>Valor</th>\n",
       "    </tr>\n",
       "  </thead>\n",
       "  <tbody>\n",
       "    <tr>\n",
       "      <th>0</th>\n",
       "      <td>16</td>\n",
       "      <td>Deputada Liliane Roriz</td>\n",
       "      <td>265.556.111-20</td>\n",
       "      <td>ESTAÇÃO NEWS E PRESTAÇÃO DE SERVIÇOS LTDA - ME</td>\n",
       "      <td>04.428.949/0001-48</td>\n",
       "      <td>2017-01-23</td>\n",
       "      <td>1.0</td>\n",
       "      <td>90</td>\n",
       "      <td>500.0</td>\n",
       "    </tr>\n",
       "    <tr>\n",
       "      <th>1</th>\n",
       "      <td>16</td>\n",
       "      <td>Deputada Liliane Roriz</td>\n",
       "      <td>265.556.111-20</td>\n",
       "      <td>ASSOCIAÇÃO COMUNITÁRIA DOS MORADORES DAS QNM 1...</td>\n",
       "      <td>2559961000166</td>\n",
       "      <td>2017-02-01</td>\n",
       "      <td>2.0</td>\n",
       "      <td>88</td>\n",
       "      <td>500.0</td>\n",
       "    </tr>\n",
       "    <tr>\n",
       "      <th>2</th>\n",
       "      <td>16</td>\n",
       "      <td>Deputada Liliane Roriz</td>\n",
       "      <td>265.556.111-20</td>\n",
       "      <td>2M PRODUÇÃO DIGITAL E COMUNICAÇÃO LTDA ME</td>\n",
       "      <td>22425647000106</td>\n",
       "      <td>2017-02-06</td>\n",
       "      <td>2.0</td>\n",
       "      <td>89</td>\n",
       "      <td>6000.0</td>\n",
       "    </tr>\n",
       "    <tr>\n",
       "      <th>3</th>\n",
       "      <td>16</td>\n",
       "      <td>Deputada Liliane Roriz</td>\n",
       "      <td>265.556.111-20</td>\n",
       "      <td>JORNAL CORREIO DE SANTA MARIA</td>\n",
       "      <td>10902694000106</td>\n",
       "      <td>2017-01-25</td>\n",
       "      <td>1.0</td>\n",
       "      <td>207</td>\n",
       "      <td>500.0</td>\n",
       "    </tr>\n",
       "    <tr>\n",
       "      <th>4</th>\n",
       "      <td>16</td>\n",
       "      <td>Deputada Liliane Roriz</td>\n",
       "      <td>265.556.111-20</td>\n",
       "      <td>SATÉLITE NOTÍCIAS EVENTOS E PUBLICIDADES LTDA</td>\n",
       "      <td>06.237.055/0001-04</td>\n",
       "      <td>2017-02-28</td>\n",
       "      <td>2.0</td>\n",
       "      <td>45</td>\n",
       "      <td>500.0</td>\n",
       "    </tr>\n",
       "  </tbody>\n",
       "</table>\n",
       "</div>"
      ],
      "text/plain": [
       "   Gabinete                    Nome             CPF  \\\n",
       "0        16  Deputada Liliane Roriz  265.556.111-20   \n",
       "1        16  Deputada Liliane Roriz  265.556.111-20   \n",
       "2        16  Deputada Liliane Roriz  265.556.111-20   \n",
       "3        16  Deputada Liliane Roriz  265.556.111-20   \n",
       "4        16  Deputada Liliane Roriz  265.556.111-20   \n",
       "\n",
       "                           Empresa (ou Profissional)       CNPJ (ou CPF)  \\\n",
       "0     ESTAÇÃO NEWS E PRESTAÇÃO DE SERVIÇOS LTDA - ME  04.428.949/0001-48   \n",
       "1  ASSOCIAÇÃO COMUNITÁRIA DOS MORADORES DAS QNM 1...       2559961000166   \n",
       "2         2M PRODUÇÃO DIGITAL E COMUNICAÇÃO LTDA ME       22425647000106   \n",
       "3                      JORNAL CORREIO DE SANTA MARIA      10902694000106   \n",
       "4      SATÉLITE NOTÍCIAS EVENTOS E PUBLICIDADES LTDA  06.237.055/0001-04   \n",
       "\n",
       "  Data de Emissão  Mês Nº Documento   Valor  \n",
       "0      2017-01-23  1.0           90   500.0  \n",
       "1      2017-02-01  2.0           88   500.0  \n",
       "2      2017-02-06  2.0           89  6000.0  \n",
       "3      2017-01-25  1.0          207   500.0  \n",
       "4      2017-02-28  2.0           45   500.0  "
      ]
     },
     "execution_count": 10,
     "metadata": {},
     "output_type": "execute_result"
    }
   ],
   "source": [
    "verba2017.head(5)"
   ]
  },
  {
   "cell_type": "code",
   "execution_count": null,
   "metadata": {},
   "outputs": [],
   "source": [
    "print(\"Linhas: \",verba2014.shape[0]) \n",
    "print(\"Colunas: \",verba2014.shape[1]) "
   ]
  },
  {
   "cell_type": "markdown",
   "metadata": {},
   "source": [
    "\n",
    "### Nossas primeiras avaliações e análises serão realizadas nos dados do ano de 2014, conforme avançamos iremos adicionar os demais anos. \n",
    "\n"
   ]
  },
  {
   "cell_type": "code",
   "execution_count": 11,
   "metadata": {},
   "outputs": [
    {
     "data": {
      "text/plain": [
       "Index(['Gabinete', 'Nome', 'CPF', 'EMPRESA (OU PROFISSIONAL)', 'CNPJ(ouCPF)',\n",
       "       'Data de Emissão', 'NºDocumento', 'Valor', 'Unnamed: 8', 'Unnamed: 9'],\n",
       "      dtype='object')"
      ]
     },
     "execution_count": 11,
     "metadata": {},
     "output_type": "execute_result"
    }
   ],
   "source": [
    "verba2014.columns"
   ]
  },
  {
   "cell_type": "markdown",
   "metadata": {},
   "source": [
    "#### Notamos que algumas variáveis(colunas) não são necessárias pois estão com valores nulos portanto, podemos remove-las \n",
    "#### São elas;  \n",
    " >'Unnamed: 8',\n",
    " >'Unnamed: 9']\n",
    "#### Devemos também renomear o nome de algumas colunas como. \n",
    " >'EMPRESA (OU PROFISSIONAL)',\n",
    " >'CNPJ(ouCPF)',\n",
    " >'Data de Emissão',"
   ]
  },
  {
   "cell_type": "code",
   "execution_count": 12,
   "metadata": {},
   "outputs": [],
   "source": [
    "verba2014.drop(['Unnamed: 8', 'Unnamed: 9'], axis = 1 , inplace = True)"
   ]
  },
  {
   "cell_type": "code",
   "execution_count": 13,
   "metadata": {},
   "outputs": [
    {
     "data": {
      "text/plain": [
       "Index(['Gabinete', 'Nome', 'CPF', 'EMPRESA (OU PROFISSIONAL)', 'CNPJ(ouCPF)',\n",
       "       'Data de Emissão', 'NºDocumento', 'Valor'],\n",
       "      dtype='object')"
      ]
     },
     "execution_count": 13,
     "metadata": {},
     "output_type": "execute_result"
    }
   ],
   "source": [
    "verba2014.columns"
   ]
  },
  {
   "cell_type": "code",
   "execution_count": 14,
   "metadata": {},
   "outputs": [],
   "source": [
    "verba2014.columns = ['Gabinete', 'Deputado', 'CPF', 'Fornecedor', 'CNPJ-CPF',\n",
    "       'Data Emissão', 'NºDocumento', 'Valor']"
   ]
  },
  {
   "cell_type": "markdown",
   "metadata": {},
   "source": [
    "#### Agora temos as colunas que precisamos em nosso dataset, esta é a faze de tratamento dos dados, poderiamos ter realizado esta etapa noo excel\n",
    "#### Já que estamos trabalhando nas colunas, vamos criar uma coluna para contagem de ocorrências"
   ]
  },
  {
   "cell_type": "code",
   "execution_count": 15,
   "metadata": {},
   "outputs": [],
   "source": [
    "verba2014['Contagem'] = 1"
   ]
  },
  {
   "cell_type": "code",
   "execution_count": 16,
   "metadata": {},
   "outputs": [
    {
     "data": {
      "text/plain": [
       "0    1\n",
       "1    1\n",
       "2    1\n",
       "3    1\n",
       "4    1\n",
       "Name: Contagem, dtype: int64"
      ]
     },
     "execution_count": 16,
     "metadata": {},
     "output_type": "execute_result"
    }
   ],
   "source": [
    "verba2014['Contagem'].head(5)"
   ]
  },
  {
   "cell_type": "markdown",
   "metadata": {},
   "source": [
    "#### Vamos verificar com que tipo de dados estamos lidando, quantidade de váriaveis, tipos de váriaveis e quantidade de linhas"
   ]
  },
  {
   "cell_type": "code",
   "execution_count": 17,
   "metadata": {},
   "outputs": [
    {
     "name": "stdout",
     "output_type": "stream",
     "text": [
      "Linhas:  2728\n",
      "Colunas:  9\n"
     ]
    }
   ],
   "source": [
    "print(\"Linhas: \",verba2014.shape[0]) \n",
    "print(\"Colunas: \",verba2014.shape[1]) "
   ]
  },
  {
   "cell_type": "code",
   "execution_count": 18,
   "metadata": {},
   "outputs": [
    {
     "data": {
      "text/plain": [
       "Gabinete          int64\n",
       "Deputado         object\n",
       "CPF              object\n",
       "Fornecedor       object\n",
       "CNPJ-CPF         object\n",
       "Data Emissão     object\n",
       "NºDocumento      object\n",
       "Valor           float64\n",
       "Contagem          int64\n",
       "dtype: object"
      ]
     },
     "execution_count": 18,
     "metadata": {},
     "output_type": "execute_result"
    }
   ],
   "source": [
    "verba2014.dtypes"
   ]
  },
  {
   "cell_type": "code",
   "execution_count": 19,
   "metadata": {},
   "outputs": [
    {
     "data": {
      "text/html": [
       "<div>\n",
       "<style scoped>\n",
       "    .dataframe tbody tr th:only-of-type {\n",
       "        vertical-align: middle;\n",
       "    }\n",
       "\n",
       "    .dataframe tbody tr th {\n",
       "        vertical-align: top;\n",
       "    }\n",
       "\n",
       "    .dataframe thead th {\n",
       "        text-align: right;\n",
       "    }\n",
       "</style>\n",
       "<table border=\"1\" class=\"dataframe\">\n",
       "  <thead>\n",
       "    <tr style=\"text-align: right;\">\n",
       "      <th></th>\n",
       "      <th>Gabinete</th>\n",
       "      <th>Valor</th>\n",
       "      <th>Contagem</th>\n",
       "    </tr>\n",
       "  </thead>\n",
       "  <tbody>\n",
       "    <tr>\n",
       "      <th>count</th>\n",
       "      <td>2728.000000</td>\n",
       "      <td>2728.000000</td>\n",
       "      <td>2728.0</td>\n",
       "    </tr>\n",
       "    <tr>\n",
       "      <th>mean</th>\n",
       "      <td>13.332111</td>\n",
       "      <td>1306.301620</td>\n",
       "      <td>1.0</td>\n",
       "    </tr>\n",
       "    <tr>\n",
       "      <th>std</th>\n",
       "      <td>6.920977</td>\n",
       "      <td>2523.885671</td>\n",
       "      <td>0.0</td>\n",
       "    </tr>\n",
       "    <tr>\n",
       "      <th>min</th>\n",
       "      <td>1.000000</td>\n",
       "      <td>12.990000</td>\n",
       "      <td>1.0</td>\n",
       "    </tr>\n",
       "    <tr>\n",
       "      <th>25%</th>\n",
       "      <td>7.000000</td>\n",
       "      <td>100.007500</td>\n",
       "      <td>1.0</td>\n",
       "    </tr>\n",
       "    <tr>\n",
       "      <th>50%</th>\n",
       "      <td>15.000000</td>\n",
       "      <td>155.480000</td>\n",
       "      <td>1.0</td>\n",
       "    </tr>\n",
       "    <tr>\n",
       "      <th>75%</th>\n",
       "      <td>19.000000</td>\n",
       "      <td>800.000000</td>\n",
       "      <td>1.0</td>\n",
       "    </tr>\n",
       "    <tr>\n",
       "      <th>max</th>\n",
       "      <td>24.000000</td>\n",
       "      <td>34650.000000</td>\n",
       "      <td>1.0</td>\n",
       "    </tr>\n",
       "  </tbody>\n",
       "</table>\n",
       "</div>"
      ],
      "text/plain": [
       "          Gabinete         Valor  Contagem\n",
       "count  2728.000000   2728.000000    2728.0\n",
       "mean     13.332111   1306.301620       1.0\n",
       "std       6.920977   2523.885671       0.0\n",
       "min       1.000000     12.990000       1.0\n",
       "25%       7.000000    100.007500       1.0\n",
       "50%      15.000000    155.480000       1.0\n",
       "75%      19.000000    800.000000       1.0\n",
       "max      24.000000  34650.000000       1.0"
      ]
     },
     "execution_count": 19,
     "metadata": {},
     "output_type": "execute_result"
    }
   ],
   "source": [
    "verba2014.describe() "
   ]
  },
  {
   "cell_type": "markdown",
   "metadata": {},
   "source": [
    "### Já entendemos o básico e o necessário para começar a realizar análises descritivas básicas em nossos dados, então vamos lá. \n",
    "> ### Quem são e quantos são deputados da CLDF de 2014? "
   ]
  },
  {
   "cell_type": "code",
   "execution_count": 20,
   "metadata": {},
   "outputs": [
    {
     "data": {
      "text/plain": [
       "['Deputado Robério Negreiros',\n",
       " 'Deputado Chico Leite',\n",
       " 'Deputada Luzia de Paula',\n",
       " 'Deputada Celina Leão',\n",
       " 'Deputada Liliane Roriz',\n",
       " 'Deputado Agaciel Maia',\n",
       " 'Deputado Cristiano Araújo',\n",
       " 'Deputado Joe Valle',\n",
       " 'Deputado Professor Israel',\n",
       " 'Deputado Wasny de Roure',\n",
       " 'Deputado Wellington Luiz',\n",
       " 'Deputada Arlete Sampaio',\n",
       " 'Deputada Eliana Pedrosa',\n",
       " 'Deputado Ayton Gomes Martins',\n",
       " 'Deputado Benedito Augusto Domingos',\n",
       " 'Deputado Marcio Michel Alves',\n",
       " 'Deputado Evandro Garla',\n",
       " 'Deputado Olair Francisco',\n",
       " 'Deputado Patrício',\n",
       " 'Deputado Paulo Roriz',\n",
       " 'Deputado Rôney Tanios Nemer',\n",
       " 'Deputado Washington Mesquita',\n",
       " 'Deputado Chico Vigilante',\n",
       " 'Deputado Cláudio Abrantes',\n",
       " 'Deputado Alírio Neto']"
      ]
     },
     "execution_count": 20,
     "metadata": {},
     "output_type": "execute_result"
    }
   ],
   "source": [
    "nome_deputado2014 = verba2014['Deputado'].unique()\n",
    "list(nome_deputado2014)"
   ]
  },
  {
   "cell_type": "code",
   "execution_count": 21,
   "metadata": {},
   "outputs": [
    {
     "data": {
      "text/plain": [
       "25"
      ]
     },
     "execution_count": 21,
     "metadata": {},
     "output_type": "execute_result"
    }
   ],
   "source": [
    "len(nome_deputado2014)"
   ]
  },
  {
   "cell_type": "markdown",
   "metadata": {},
   "source": [
    "## Distribuição de Frequências de uma Variável \n",
    "#### Bom, sabemos o nome de cada deputado, quantos são, agora, podemos responder outra pergunta: \n",
    "> ####  Quantas vezes o deputado foi citado no documento, ou seja, com que frequência, registros ele tem nos dados durante todo o ano?"
   ]
  },
  {
   "cell_type": "code",
   "execution_count": 22,
   "metadata": {},
   "outputs": [
    {
     "data": {
      "text/plain": [
       "Deputado\n",
       "Deputada Arlete Sampaio               324\n",
       "Deputada Celina Leão                   32\n",
       "Deputada Eliana Pedrosa                40\n",
       "Deputada Liliane Roriz                 25\n",
       "Deputada Luzia de Paula                37\n",
       "Deputado Agaciel Maia                 147\n",
       "Deputado Alírio Neto                   40\n",
       "Deputado Ayton Gomes Martins           23\n",
       "Deputado Benedito Augusto Domingos     58\n",
       "Deputado Chico Leite                   35\n",
       "Deputado Chico Vigilante               56\n",
       "Deputado Cláudio Abrantes             200\n",
       "Deputado Cristiano Araújo              88\n",
       "Deputado Evandro Garla                 55\n",
       "Deputado Joe Valle                     97\n",
       "Deputado Marcio Michel Alves           77\n",
       "Deputado Olair Francisco               55\n",
       "Deputado Patrício                      12\n",
       "Deputado Paulo Roriz                  217\n",
       "Deputado Professor Israel             291\n",
       "Deputado Robério Negreiros            120\n",
       "Deputado Rôney Tanios Nemer           198\n",
       "Deputado Washington Mesquita          108\n",
       "Deputado Wasny de Roure               347\n",
       "Deputado Wellington Luiz               46\n",
       "Name: Contagem, dtype: int64"
      ]
     },
     "execution_count": 22,
     "metadata": {},
     "output_type": "execute_result"
    }
   ],
   "source": [
    " verba2014.groupby('Deputado')['Contagem'].sum()\n"
   ]
  },
  {
   "cell_type": "markdown",
   "metadata": {},
   "source": [
    "#### Vamos \"tentar\" exibir esses dados de forma gráfica estatísca, cuja o objetivo é  de produzir, no investigar em geral, uma impressão mais rápida e viva de visualização dos dados."
   ]
  },
  {
   "cell_type": "code",
   "execution_count": 232,
   "metadata": {},
   "outputs": [
    {
     "data": {
      "image/png": "[encoded data removed]",
      "text/plain": [
       "<matplotlib.figure.Figure at 0x1b0beb7bbe0>"
      ]
     },
     "metadata": {},
     "output_type": "display_data"
    },
    {
     "name": "stdout",
     "output_type": "stream",
     "text": [
      "Figura 01\n",
      "Gráfico de barras horizontais representando a frequência de ocorrência no dataset de cada deputado\n",
      " \n"
     ]
    }
   ],
   "source": [
    "contagem_ocorrencia2014 = verba2014.groupby('Deputado')['Contagem'].sum().sort_values().plot(kind = 'barh', color=random.choice(colors), grid= False, figsize=(10,10) )\n",
    "for ix in contagem_ocorrencia2014.patches:\n",
    "    ia=ix.get_bbox()\n",
    "    contagem_ocorrencia2014.annotate(\"{: .0f}\".format(ia.x1 + ia.x0), (ix.get_width() + 1 , ix.get_y() - 0.05))\n",
    "\n",
    "plt.ylabel(\"Deputados\")\n",
    "plt.xlabel(\"Frequência absolta\")\n",
    "plt.title(\"Quantidade de ocorrências com que cada deputado foi citado nos dados \\n Total: \" + str(verba2014['Contagem'].sum()))\n",
    "plt.show()\n",
    "\n",
    "print(\"Figura 01\")\n",
    "print(\"Gráfico de barras horizontais representando a frequência de ocorrência no dataset de cada deputado\")\n",
    "print(\" \")"
   ]
  },
  {
   "cell_type": "markdown",
   "metadata": {},
   "source": [
    "* #### Na exibição do gráfico acima nós utilizamos uma váriavel DISCRETA cuja seu valor pode assumir apenas um número, de qualquer forma esse tipo frequência só faz sentido com valores inteiros. O resultado final é o resultado de uma contagem, o número de ocorrência em que cada deputado foi citado nos dados"
   ]
  },
  {
   "cell_type": "code",
   "execution_count": 149,
   "metadata": {},
   "outputs": [
    {
     "data": {
      "image/png": "[encoded data removed]",
      "text/plain": [
       "<matplotlib.figure.Figure at 0x1b0be6187f0>"
      ]
     },
     "metadata": {},
     "output_type": "display_data"
    },
    {
     "name": "stdout",
     "output_type": "stream",
     "text": [
      "Gráfico em linha exibição da distribuição de frequência de ocorrência de uma váriavel\n",
      " \n"
     ]
    }
   ],
   "source": [
    "contagem_ocorrencia2014 = verba2014.groupby('Deputado')['Contagem'].sum().sort_values().plot( linestyle='dashed',grid= False, marker='.' ,figsize=(10,10), linewidth=2,  markersize=10)\n",
    "plt.ylabel(\"Frequência\")\n",
    "plt.xlabel(\" \")\n",
    "plt.title(\"Quantidade de ocorrências com que cada deputado foi indenizado\")\n",
    "plt.show()\n",
    "print(\"Gráfico em linha exibição da distribuição de frequência de ocorrência de uma váriavel\")\n",
    "print(\" \")"
   ]
  },
  {
   "cell_type": "markdown",
   "metadata": {},
   "source": [
    "###"
   ]
  },
  {
   "cell_type": "code",
   "execution_count": 25,
   "metadata": {},
   "outputs": [
    {
     "data": {
      "text/plain": [
       "count     25.000000\n",
       "mean     109.120000\n",
       "std       98.365102\n",
       "min       12.000000\n",
       "25%       40.000000\n",
       "50%       58.000000\n",
       "75%      147.000000\n",
       "max      347.000000\n",
       "Name: Contagem, dtype: float64"
      ]
     },
     "execution_count": 25,
     "metadata": {},
     "output_type": "execute_result"
    }
   ],
   "source": [
    "descricoes_ocorrencia2014 = verba2014.groupby('Deputado')['Contagem'].sum()\n",
    "analise_ocorrencia2014 = descricoes_ocorrencia2014.describe()\n",
    "analise_ocorrencia2014"
   ]
  },
  {
   "cell_type": "code",
   "execution_count": 154,
   "metadata": {},
   "outputs": [
    {
     "data": {
      "text/plain": [
       "Text(0.5,1,'Variações')"
      ]
     },
     "execution_count": 154,
     "metadata": {},
     "output_type": "execute_result"
    },
    {
     "data": {
      "image/png": "[encoded data removed]",
      "text/plain": [
       "<matplotlib.figure.Figure at 0x1b0bece94a8>"
      ]
     },
     "metadata": {},
     "output_type": "display_data"
    }
   ],
   "source": [
    "analise_ocorrencia2014.plot(kind = 'box' , figsize = (8,5) , grid = False)\n",
    "plt.title(\"Variações\")"
   ]
  },
  {
   "cell_type": "code",
   "execution_count": null,
   "metadata": {},
   "outputs": [],
   "source": []
  },
  {
   "cell_type": "markdown",
   "metadata": {},
   "source": [
    "#### Obtemos uma informação muito importante, sabemos quantas vezes cada deputado aparece no documento, essa informação será muito útil para podermos realizar comparações e aplicar frequências, vamos para a próxima pergunta.\n",
    "> #### Qual o valor gasto por cada deputado durante o ano de 2014 por cada deputado? "
   ]
  },
  {
   "cell_type": "code",
   "execution_count": 27,
   "metadata": {},
   "outputs": [
    {
     "name": "stdout",
     "output_type": "stream",
     "text": [
      "Deputado Robério Negreiros            227232.79\n",
      "Deputado Chico Leite                   42689.29\n",
      "Deputada Luzia de Paula                50648.38\n",
      "Deputada Celina Leão                  158569.99\n",
      "Deputada Liliane Roriz                110286.77\n",
      "Deputado Agaciel Maia                  98637.83\n",
      "Deputado Cristiano Araújo             179194.04\n",
      "Deputado Joe Valle                    104993.57\n",
      "Deputado Professor Israel             186207.62\n",
      "Deputado Wasny de Roure               158823.78\n",
      "Deputado Wellington Luiz              235393.00\n",
      "Deputada Arlete Sampaio               164795.82\n",
      "Deputada Eliana Pedrosa               178935.54\n",
      "Deputado Ayton Gomes Martins          228000.00\n",
      "Deputado Benedito Augusto Domingos    233888.42\n",
      "Deputado Marcio Michel Alves          151113.08\n",
      "Deputado Evandro Garla                 98992.93\n",
      "Deputado Olair Francisco              134417.46\n",
      "Deputado Patrício                      93982.60\n",
      "Deputado Paulo Roriz                  232153.51\n",
      "Deputado Rôney Tanios Nemer           111682.97\n",
      "Deputado Washington Mesquita          143399.69\n",
      "Deputado Chico Vigilante               60474.69\n",
      "Deputado Cláudio Abrantes             130421.27\n",
      "Deputado Alírio Neto                   48655.78\n",
      "Name: VALOR, dtype: float64\n"
     ]
    }
   ],
   "source": [
    "despesas_deputado2014 = {}\n",
    "\n",
    "for i in nome_deputado2014:\n",
    "    i_nome2014 = verba2014[verba2014['Deputado'] == i]\n",
    "    total_gastos2014 = i_nome2014['Valor'].sum()\n",
    "    despesas_deputado2014[i] = total_gastos2014\n",
    "    gastos_por_deputados2014 = pd.DataFrame.from_dict(despesas_deputado2014, orient='index')\n",
    "    gastos_por_deputados2014.columns = ['VALOR']\n",
    "gastos_por_deputados2014.head(10)\n",
    "print(gastos_por_deputados2014['VALOR'])"
   ]
  },
  {
   "cell_type": "code",
   "execution_count": 258,
   "metadata": {},
   "outputs": [
    {
     "data": {
      "image/png": "[encoded data removed]",
      "text/plain": [
       "<matplotlib.figure.Figure at 0x1b0bee69b00>"
      ]
     },
     "metadata": {},
     "output_type": "display_data"
    }
   ],
   "source": [
    "mensal_deputado2014 = verba2014.groupby('Deputado')['Valor'].sum().sort_values().plot(kind = 'barh', color=random.choice(colors), figsize=(15,15), grid = False)\n",
    "for ix in mensal_deputado2014.patches:\n",
    "    ia=ix.get_bbox()\n",
    "    mensal_deputado2014.annotate(\"{: 0.2f}\".format(ia.x1 + ia.x0), (ix.get_width() + 5, ix.get_y()) )\n",
    "\n",
    "plt.title(\"Valor anual gasto por cada deputado \\n Total: \" + str(verba2014['Valor'].sum()))\n",
    "plt.ylabel('Valor')\n",
    "plt.xlabel('Valor gasto no ano de 2014')\n",
    "plt.show()"
   ]
  },
  {
   "cell_type": "markdown",
   "metadata": {},
   "source": [
    "#### Sabemos quanto cada deputado gastou, agora precisamos saber; \n",
    "> #### Quais foram os seus forncedores(empresa)?\n",
    "> #### Com qual fornecedor ele mais gastou(empresa)?"
   ]
  },
  {
   "cell_type": "code",
   "execution_count": 28,
   "metadata": {},
   "outputs": [
    {
     "data": {
      "text/plain": [
       "<bound method NDFrame.head of                                                        Valor\n",
       "Fornecedor                                                  \n",
       " AUTO POSTO ESPLANADA LTDA                            150.00\n",
       " POSTO PETROBRAS AZUL                                 194.57\n",
       " VX ADVOCACIA E CONSULTORIA                          6500.00\n",
       "ABC TRANSPORTES E TERCEIRIZAÇÃO DE MAO DE OBRA      27500.00\n",
       "ABC TRANSPORTES E TERCEIRIZAÇÃO DE MAO DE OBRA ...   5500.00\n",
       "ABC TRANSPORTES E TERCEIRIZAÇÃO DE MAO DE OBRA ...   5500.00\n",
       "ABC TRANSPORTES E TERCEIRIZAÇÃO DE MAO DE OBRA ...   5500.00\n",
       "ABC TRANSPORTES E TERCEIRIZAÇÃP DE MAO DE OBRA ...  22000.00\n",
       "ADVOCACIA MARCIO SILVA                              52500.00\n",
       "ADVOCACIA TAVARES E OLIVEIRA                        30000.00\n",
       "ADVOCACIA TAVARES E OLIVEIRA S/C                    42000.00\n",
       "AGENCIA DE VIAGENS NEW WORLD LTDA                     550.00\n",
       "AGILE LOCADORA DE VEICULOS                          27500.00\n",
       "AGILE LOCADORA DE VEICULOS LTDA                      6500.00\n",
       "AGUAS CLARAS POSTO DE SERVIÇOS                        129.40\n",
       "AGUAS CLARAS POSTOS DE SERVIÇOS                        40.00\n",
       "AIRLENES TURISMO P LTDA ME                           1584.00\n",
       "AIRLINES REPRESENTAÇÕES LTDA                        13244.00\n",
       "AIRLINES REPRESENTAÇÕES LTDA.                        3311.00\n",
       "ALEXANDRE AUTO CENTER                                 437.00\n",
       "ALEXANDRE AUTO PEÇAS E SERVIÇOS LTDA-ME               156.00\n",
       "ALUGUEL ESCRITORIO APOIO ATIVIDADE PARLAMENTAR       3653.87\n",
       "ALUGUEL ESCRITORIO APOIO PARLAMENTAR                33727.09\n",
       "ALUGUEL ESCRITORIO APOIO PARLAMENTAR - VISÃO EM...   3417.60\n",
       "ALUGUEL ESCRITÓRIO -APOIO PARLAMENTAR                4845.00\n",
       "ALUGUEL- ESCRITÓRIO PARLAMENTAR (A CASA DO LIVR...  16380.00\n",
       "ALUGUEL- GABINETE DE APOIO (PAULO VICENTE LOPES...   9353.78\n",
       "AMORIM COMERCIO DE DERIVADOS DE PETROLEO              100.00\n",
       "AMORIM E AMORIM EMPREENDIMENTO COMERCIAIS             229.66\n",
       "AMORIM E AMORIM EMPREENDIMENTOS COMERCIAIS            100.00\n",
       "...                                                      ...\n",
       "STUDIO 1 COMUNICAÇÃO LTDA ME                         5500.00\n",
       "SULZ GONSALVES CONSULTORES ADV ASSOCIADOS S/C       47000.00\n",
       "SULZ GONSALVES CONSULTORES ADVOVAGOS ASSOCIADOS...  15000.00\n",
       "SÃO JORGE AUTO POSTO POSTO PETROBRAS SGON             164.00\n",
       "SÃO ROQUE COM VAREJISTA DE COMBUSTIVEIS               194.06\n",
       "TAGUACENTRO COM DE DERIVADOS DE PETROLEO              198.33\n",
       "TARIFA ENERGIA ELETRICA ESCRITORIO APOIO ATIV P...     51.53\n",
       "TARIFA ENERGIA ELETRICA ESCRITORIO PARLAMENTAR ...    603.36\n",
       "TARIFA ENERGIA ELÉTRICA ESCRITÓRIO-APOI ATIV PA...    232.32\n",
       "TELEFONE ESCRITORIO PARLAMENTAR                      2029.04\n",
       "TRNSMIDIA COMUNICAÇAO                               16000.00\n",
       "VALTER XAVIER ADVOGADOS ASSOCIADOS                   6500.00\n",
       "VEICULOS E PETROLEO LTDA JARJOUR                       80.00\n",
       "VERDE E AMARELO POSTO DE SERVIÇOS                     429.08\n",
       "VIA PARK COMERCIAL DE ALIMENTOS LTDA.                 137.88\n",
       "VIA SATELITE LOCADORA DE VEICULOS                    1700.00\n",
       "VIA SATÉLITE LOCADORA DE VEÍCULOS LTDA ME            5100.00\n",
       "VIA SATÉLITE LOCADORA DE VEÍCULOS LTDA. ME           1700.00\n",
       "VILLAGE VEICULOS LTDA                                6600.00\n",
       "VILLAGE VEICULOS LTDA                               17800.00\n",
       "VILLAGE VEICULOS LTDA EPP                            3300.00\n",
       "VILLAGE VEÍCULOS LTDA EPP                            9900.00\n",
       "VX ADVOCACIA E CONSULTORIA                          37000.00\n",
       "VX ADVOCACIA E CONSULTORIA VALTER XAVIER- ADVOG...  19500.00\n",
       "VX ADVOCACIA E CONSULTORIA VALTES XAVIER- ADVOG...   6500.00\n",
       "WIDESTAR COM DE PRODUTOS E EQUIPAMENTOS DE INF       5500.00\n",
       "WIDESTAR COM DE PRODUTOS E EQUIPAMENTOS DE INF ...   1116.00\n",
       "WIDESTAR COM DE PRODUTOS E EQUIPAMENTOS DE INF ...    500.00\n",
       "WN TURISMO VIAGENS E EXCURSOES                       3500.00\n",
       "não consta documento                                19281.92\n",
       "\n",
       "[703 rows x 1 columns]>"
      ]
     },
     "execution_count": 28,
     "metadata": {},
     "output_type": "execute_result"
    }
   ],
   "source": [
    "gastos_fornecedor2014 = verba2014.groupby('Fornecedor')[['Deputado', 'Valor']].sum()\n",
    "gastos_fornecedor2014.head"
   ]
  },
  {
   "cell_type": "code",
   "execution_count": 34,
   "metadata": {},
   "outputs": [
    {
     "data": {
      "text/plain": [
       "0    2013-12-24 00:00:00\n",
       "1    2013-12-13 00:00:00\n",
       "2    2013-12-13 00:00:00\n",
       "3    2013-12-19 00:00:00\n",
       "4    2013-12-12 00:00:00\n",
       "Name: Data Emissão, dtype: object"
      ]
     },
     "execution_count": 34,
     "metadata": {},
     "output_type": "execute_result"
    }
   ],
   "source": [
    "plotagem_data = verba2014.copy()\n",
    "#plotagem_data['Data Emissão'] = plotagem_data['Data Emissão'].apply(x)\n",
    "#plotagem_data['Data Emissão'] = plotagem_data['Data Emissão']\n",
    "datax = plotagem_data['Data Emissão']\n",
    "datax.head(5)"
   ]
  },
  {
   "cell_type": "code",
   "execution_count": 57,
   "metadata": {},
   "outputs": [
    {
     "data": {
      "text/plain": [
       "array([datetime.datetime(2013, 12, 24, 0, 0),\n",
       "       datetime.datetime(2013, 12, 13, 0, 0),\n",
       "       datetime.datetime(2013, 12, 13, 0, 0), ...,\n",
       "       datetime.datetime(2014, 12, 1, 0, 0),\n",
       "       datetime.datetime(2014, 12, 4, 0, 0),\n",
       "       datetime.datetime(2014, 12, 3, 0, 0)], dtype=object)"
      ]
     },
     "execution_count": 57,
     "metadata": {},
     "output_type": "execute_result"
    }
   ],
   "source": [
    "month = plotagem_data['Data Emissão'].values\n",
    "month"
   ]
  },
  {
   "cell_type": "code",
   "execution_count": 259,
   "metadata": {},
   "outputs": [
    {
     "ename": "AttributeError",
     "evalue": "'DataFrameGroupBy' object has no attribute 'split'",
     "output_type": "error",
     "traceback": [
      "\u001b[1;31m---------------------------------------------------------------------------\u001b[0m",
      "\u001b[1;31mAttributeError\u001b[0m                            Traceback (most recent call last)",
      "\u001b[1;32m<ipython-input-259-dcac92d58f90>\u001b[0m in \u001b[0;36m<module>\u001b[1;34m()\u001b[0m\n\u001b[0;32m      8\u001b[0m \u001b[1;33m\u001b[0m\u001b[0m\n\u001b[0;32m      9\u001b[0m \u001b[1;33m\u001b[0m\u001b[0m\n\u001b[1;32m---> 10\u001b[1;33m \u001b[0mmensal_deputado20144\u001b[0m \u001b[1;33m=\u001b[0m \u001b[0mplotagem_data\u001b[0m\u001b[1;33m.\u001b[0m\u001b[0mgroupby\u001b[0m\u001b[1;33m(\u001b[0m\u001b[1;34m'Data Emissão'\u001b[0m\u001b[1;33m)\u001b[0m\u001b[1;33m.\u001b[0m\u001b[0msplit\u001b[0m\u001b[1;33m(\u001b[0m\u001b[1;34m'-'\u001b[0m\u001b[1;33m)\u001b[0m\u001b[1;33m[\u001b[0m\u001b[1;34m'Valor'\u001b[0m\u001b[1;33m]\u001b[0m\u001b[1;33m.\u001b[0m\u001b[0msum\u001b[0m\u001b[1;33m(\u001b[0m\u001b[1;33m)\u001b[0m\u001b[1;33m\u001b[0m\u001b[0m\n\u001b[0m\u001b[0;32m     11\u001b[0m \u001b[0mmensal_deputado20144\u001b[0m\u001b[1;33m.\u001b[0m\u001b[0mplot\u001b[0m\u001b[1;33m(\u001b[0m\u001b[0mkind\u001b[0m \u001b[1;33m=\u001b[0m \u001b[1;34m'line'\u001b[0m \u001b[1;33m,\u001b[0m \u001b[0mtitle\u001b[0m \u001b[1;33m=\u001b[0m \u001b[1;34m'Gastos por mês dos Deputados'\u001b[0m \u001b[1;33m,\u001b[0m \u001b[0mcolor\u001b[0m \u001b[1;33m=\u001b[0m \u001b[1;34m'green'\u001b[0m\u001b[1;33m,\u001b[0m \u001b[0mgrid\u001b[0m \u001b[1;33m=\u001b[0m \u001b[1;32mTrue\u001b[0m\u001b[1;33m,\u001b[0m \u001b[0mfigsize\u001b[0m\u001b[1;33m=\u001b[0m\u001b[1;33m(\u001b[0m\u001b[1;36m10\u001b[0m\u001b[1;33m,\u001b[0m\u001b[1;36m10\u001b[0m\u001b[1;33m)\u001b[0m\u001b[1;33m)\u001b[0m\u001b[1;33m\u001b[0m\u001b[0m\n\u001b[0;32m     12\u001b[0m \u001b[0mplt\u001b[0m\u001b[1;33m.\u001b[0m\u001b[0mylabel\u001b[0m\u001b[1;33m(\u001b[0m\u001b[1;34m'Gasto em R$'\u001b[0m\u001b[1;33m)\u001b[0m\u001b[1;33m\u001b[0m\u001b[0m\n",
      "\u001b[1;32mC:\\ProgramData\\Anaconda3\\lib\\site-packages\\pandas\\core\\groupby.py\u001b[0m in \u001b[0;36m__getattr__\u001b[1;34m(self, attr)\u001b[0m\n\u001b[0;32m    674\u001b[0m \u001b[1;33m\u001b[0m\u001b[0m\n\u001b[0;32m    675\u001b[0m         raise AttributeError(\"%r object has no attribute %r\" %\n\u001b[1;32m--> 676\u001b[1;33m                              (type(self).__name__, attr))\n\u001b[0m\u001b[0;32m    677\u001b[0m \u001b[1;33m\u001b[0m\u001b[0m\n\u001b[0;32m    678\u001b[0m     \u001b[0mplot\u001b[0m \u001b[1;33m=\u001b[0m \u001b[0mproperty\u001b[0m\u001b[1;33m(\u001b[0m\u001b[0mGroupByPlot\u001b[0m\u001b[1;33m)\u001b[0m\u001b[1;33m\u001b[0m\u001b[0m\n",
      "\u001b[1;31mAttributeError\u001b[0m: 'DataFrameGroupBy' object has no attribute 'split'"
     ]
    }
   ],
   "source": [
    "#month = [my_str.split(\"-\")[1] for my_str in month]\n",
    "#month.datetime(\"%m\")\n",
    "month1 = plotagem_data['Data Emissão']\n",
    "#print(month1.split('-'), 1)\n",
    "month2 = str(month1).strip()\n",
    "month2.split('-')[1]\n",
    "month2\n",
    "\n",
    "\n",
    "mensal_deputado20144 = plotagem_data.groupby('Data Emissão').split('-')['Valor'].sum()\n",
    "mensal_deputado20144.plot(kind = 'line' , title = 'Gastos por mês dos Deputados' , color = 'green', grid = True, figsize=(10,10))\n",
    "plt.ylabel('Gasto em R$')\n",
    "plt.xlabel('Mês')\n",
    "plt.show()"
   ]
  },
  {
   "cell_type": "code",
   "execution_count": 89,
   "metadata": {},
   "outputs": [],
   "source": [
    "#mes2014 = month2['Data Emissão'].values\n",
    "\n",
    "mes2014 = [month2.split('-')[1] for x in month2]\n",
    "#plotagem_data['Mês']= mes2014"
   ]
  },
  {
   "cell_type": "code",
   "execution_count": 32,
   "metadata": {},
   "outputs": [
    {
     "data": {
      "text/plain": [
       "Index(['Gabinete', 'Deputado', 'CPF', 'Fornecedor', 'CNPJ-CPF', 'Data Emissão',\n",
       "       'NºDocumento', 'Valor', 'Contagem'],\n",
       "      dtype='object')"
      ]
     },
     "execution_count": 32,
     "metadata": {},
     "output_type": "execute_result"
    }
   ],
   "source": [
    "verba2014.columns"
   ]
  },
  {
   "cell_type": "code",
   "execution_count": 333,
   "metadata": {},
   "outputs": [
    {
     "data": {
      "text/plain": [
       "datetime.datetime(2013, 12, 13, 0, 0)"
      ]
     },
     "execution_count": 333,
     "metadata": {},
     "output_type": "execute_result"
    }
   ],
   "source": [
    "plotagem_data1"
   ]
  },
  {
   "cell_type": "code",
   "execution_count": null,
   "metadata": {},
   "outputs": [],
   "source": []
  }
 ],
 "metadata": {
  "kernelspec": {
   "display_name": "Python 3",
   "language": "python",
   "name": "python3"
  },
  "language_info": {
   "codemirror_mode": {
    "name": "ipython",
    "version": 3
   },
   "file_extension": ".py",
   "mimetype": "text/x-python",
   "name": "python",
   "nbconvert_exporter": "python",
   "pygments_lexer": "ipython3",
   "version": "3.6.4"
  }
 },
 "nbformat": 4,
 "nbformat_minor": 2
}
