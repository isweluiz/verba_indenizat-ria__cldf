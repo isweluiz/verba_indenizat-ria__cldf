{
 "cells": [
  {
   "cell_type": "markdown",
   "metadata": {},
   "source": [
    " ![conjuntodedados.jpg](conjuntodedados.jpg)\n",
    " \n",
    " Análise de Gastos públicos dos deputados da CLDF  [Trabalho de Data Science]\n",
    "-----------------------------------------\n",
    "#### @author: Luiz Eduardo \n",
    "### [Linkedin](www.linkedin.com/in/isweluiz)\n",
    "#### Professor: Sergio Côrtes\n",
    "------------------\n",
    "Descrição: A transparência no trabalho dos governantes e das instituições e empresas públicas é obrigatória no Brasil. A Lei de Acesso à Informação - LAI, de 2011, garante o direito de solicitar e receber informações de órgãos públicos, de forma gratuita, para qualquer cidadão ou entidade. Esse acesso livre à informação permite que todos os cidadãos tenham a mesma capacidade de fiscalizar, monitorar, conhecer e discutir os gastos, as ações e as decisões das entidades.\n",
    "\n",
    "\n",
    "\n",
    "> ### Índice\n",
    "> Limpeza de Dados (Data Cleaning)\n",
    "\n",
    "> Análise dos Dados (Data Analysis)\n",
    "\n",
    "> Visualização dos Dados (Data Visualization)\n",
    "\n",
    "> Conclusão\n",
    "\n",
    "\n",
    "> ### Escopo da análise\n",
    "\n",
    "> Extração dos dados da CLDF no link [Dados Abertos CLDF](dosabertos.cl.df.gov.br) \n",
    "\n",
    "> Anális dos dados (data analysis)\n",
    "\n",
    "> Qual deputado que mais gastou? Em qual periódo do ano ele(a) mais gastou?\n",
    "\n",
    "> Qual deputado que menos gastou neste período?\n",
    "\n",
    ">Quais forncedores receberam os maiores valores?"
   ]
  },
  {
   "cell_type": "code",
   "execution_count": 23,
   "metadata": {},
   "outputs": [],
   "source": [
    "#Importando bibiliotecas\n",
    "import matplotlib.pyplot as plt # Bibilioteca util para criar gráficos\n",
    "import pandas as pd # Bibilioteca para auxiliar a importar e maniular nossos dataframes\n",
    "import numpy as np # Bibilioteca útil para realizar operações matemáticas\n",
    "import seaborn as sns # Bibilioteca utilizada para dar um toque especial nos gráficos\n",
    "#import chardet   #Trabalha com leitura de arquivos, acredito que n será necessário utiliza=lá\n",
    "plt.style.use('ggplot') #Customização de gráficos , informações em https://matplotlib.org/users/style_sheets.html\n",
    "#print(plt.style.available)"
   ]
  },
  {
   "cell_type": "code",
   "execution_count": 79,
   "metadata": {},
   "outputs": [
    {
     "data": {
      "text/html": [
       "<div>\n",
       "<style scoped>\n",
       "    .dataframe tbody tr th:only-of-type {\n",
       "        vertical-align: middle;\n",
       "    }\n",
       "\n",
       "    .dataframe tbody tr th {\n",
       "        vertical-align: top;\n",
       "    }\n",
       "\n",
       "    .dataframe thead th {\n",
       "        text-align: right;\n",
       "    }\n",
       "</style>\n",
       "<table border=\"1\" class=\"dataframe\">\n",
       "  <thead>\n",
       "    <tr style=\"text-align: right;\">\n",
       "      <th></th>\n",
       "      <th>Gabinete</th>\n",
       "      <th>Nome</th>\n",
       "      <th>CPF</th>\n",
       "      <th>Empresa (ou Profissional)</th>\n",
       "      <th>CNPJ (ou CPF)</th>\n",
       "      <th>Data de Emissão</th>\n",
       "      <th>Mês</th>\n",
       "      <th>Nº Documento</th>\n",
       "      <th>Valor</th>\n",
       "    </tr>\n",
       "  </thead>\n",
       "  <tbody>\n",
       "    <tr>\n",
       "      <th>0</th>\n",
       "      <td>16.0</td>\n",
       "      <td>Deputada Liliane Roriz</td>\n",
       "      <td>265.556.111-20</td>\n",
       "      <td>ESTAÇÃO NEWS E PRESTAÇÃO DE SERVIÇOS LTDA - ME</td>\n",
       "      <td>04.428.949/0001-48</td>\n",
       "      <td>2017-01-23</td>\n",
       "      <td>1.0</td>\n",
       "      <td>90</td>\n",
       "      <td>500.0</td>\n",
       "    </tr>\n",
       "    <tr>\n",
       "      <th>1</th>\n",
       "      <td>16.0</td>\n",
       "      <td>Deputada Liliane Roriz</td>\n",
       "      <td>265.556.111-20</td>\n",
       "      <td>ASSOCIAÇÃO COMUNITÁRIA DOS MORADORES DAS QNM 1...</td>\n",
       "      <td>2559961000166</td>\n",
       "      <td>2017-02-01</td>\n",
       "      <td>2.0</td>\n",
       "      <td>88</td>\n",
       "      <td>500.0</td>\n",
       "    </tr>\n",
       "    <tr>\n",
       "      <th>2</th>\n",
       "      <td>16.0</td>\n",
       "      <td>Deputada Liliane Roriz</td>\n",
       "      <td>265.556.111-20</td>\n",
       "      <td>2M PRODUÇÃO DIGITAL E COMUNICAÇÃO LTDA ME</td>\n",
       "      <td>22425647000106</td>\n",
       "      <td>2017-02-06</td>\n",
       "      <td>2.0</td>\n",
       "      <td>89</td>\n",
       "      <td>6000.0</td>\n",
       "    </tr>\n",
       "    <tr>\n",
       "      <th>3</th>\n",
       "      <td>16.0</td>\n",
       "      <td>Deputada Liliane Roriz</td>\n",
       "      <td>265.556.111-20</td>\n",
       "      <td>JORNAL CORREIO DE SANTA MARIA</td>\n",
       "      <td>10902694000106</td>\n",
       "      <td>2017-01-25</td>\n",
       "      <td>1.0</td>\n",
       "      <td>207</td>\n",
       "      <td>500.0</td>\n",
       "    </tr>\n",
       "    <tr>\n",
       "      <th>4</th>\n",
       "      <td>16.0</td>\n",
       "      <td>Deputada Liliane Roriz</td>\n",
       "      <td>265.556.111-20</td>\n",
       "      <td>SATÉLITE NOTÍCIAS EVENTOS E PUBLICIDADES LTDA</td>\n",
       "      <td>06.237.055/0001-04</td>\n",
       "      <td>2017-02-28</td>\n",
       "      <td>2.0</td>\n",
       "      <td>45</td>\n",
       "      <td>500.0</td>\n",
       "    </tr>\n",
       "  </tbody>\n",
       "</table>\n",
       "</div>"
      ],
      "text/plain": [
       "   Gabinete                    Nome             CPF  \\\n",
       "0      16.0  Deputada Liliane Roriz  265.556.111-20   \n",
       "1      16.0  Deputada Liliane Roriz  265.556.111-20   \n",
       "2      16.0  Deputada Liliane Roriz  265.556.111-20   \n",
       "3      16.0  Deputada Liliane Roriz  265.556.111-20   \n",
       "4      16.0  Deputada Liliane Roriz  265.556.111-20   \n",
       "\n",
       "                           Empresa (ou Profissional)       CNPJ (ou CPF)  \\\n",
       "0     ESTAÇÃO NEWS E PRESTAÇÃO DE SERVIÇOS LTDA - ME  04.428.949/0001-48   \n",
       "1  ASSOCIAÇÃO COMUNITÁRIA DOS MORADORES DAS QNM 1...       2559961000166   \n",
       "2         2M PRODUÇÃO DIGITAL E COMUNICAÇÃO LTDA ME       22425647000106   \n",
       "3                      JORNAL CORREIO DE SANTA MARIA      10902694000106   \n",
       "4      SATÉLITE NOTÍCIAS EVENTOS E PUBLICIDADES LTDA  06.237.055/0001-04   \n",
       "\n",
       "  Data de Emissão  Mês Nº Documento   Valor  \n",
       "0      2017-01-23  1.0           90   500.0  \n",
       "1      2017-02-01  2.0           88   500.0  \n",
       "2      2017-02-06  2.0           89  6000.0  \n",
       "3      2017-01-25  1.0          207   500.0  \n",
       "4      2017-02-28  2.0           45   500.0  "
      ]
     },
     "execution_count": 79,
     "metadata": {},
     "output_type": "execute_result"
    }
   ],
   "source": [
    "verba = pd.read_excel(r'verba_indenizatoria_2017.xlsx')\n",
    "verba.head(5)  #Visualizando as primeiras colunas e linhas do nosso dataframe"
   ]
  },
  {
   "cell_type": "code",
   "execution_count": 80,
   "metadata": {},
   "outputs": [
    {
     "data": {
      "text/plain": [
       "['Gabinete',\n",
       " 'Nome',\n",
       " 'CPF',\n",
       " 'Empresa (ou Profissional)',\n",
       " 'CNPJ (ou CPF)',\n",
       " 'Data de Emissão',\n",
       " 'Mês',\n",
       " 'Nº Documento',\n",
       " 'Valor']"
      ]
     },
     "execution_count": 80,
     "metadata": {},
     "output_type": "execute_result"
    }
   ],
   "source": [
    "list(verba.columns) #Lista das colunas que possuimos em nosso dataframe"
   ]
  },
  {
   "cell_type": "code",
   "execution_count": 18,
   "metadata": {},
   "outputs": [
    {
     "data": {
      "text/plain": [
       "array(['Deputada Liliane Roriz', 'Deputada Luzia de Paula',\n",
       "       'Deputada Sandra Faraj', 'Deputada Telma Rufino',\n",
       "       'Deputado Bispo Renato Andrade', 'Deputado Chico Vigilante',\n",
       "       'Deputado Cláudio Abrantes', 'Deputado Cristiano Araújo',\n",
       "       'Deputado Juarezão', nan, 'Deputado Wellington Luiz'], dtype=object)"
      ]
     },
     "execution_count": 18,
     "metadata": {},
     "output_type": "execute_result"
    }
   ],
   "source": [
    "#Listando o nome de cada Deputado contido na coluna nome\n",
    "verba['Nome'].unique() "
   ]
  },
  {
   "cell_type": "code",
   "execution_count": 81,
   "metadata": {},
   "outputs": [
    {
     "data": {
      "text/plain": [
       "Gabinete                     1129\n",
       "Nome                         1129\n",
       "CPF                          1129\n",
       "Empresa (ou Profissional)    1129\n",
       "CNPJ (ou CPF)                1129\n",
       "Data de Emissão              1116\n",
       "Mês                          1116\n",
       "Nº Documento                 1127\n",
       "Valor                        1129\n",
       "dtype: int64"
      ]
     },
     "execution_count": 81,
     "metadata": {},
     "output_type": "execute_result"
    }
   ],
   "source": [
    "#Contagem de linhas em cada coluna\n",
    "verba.count() "
   ]
  },
  {
   "cell_type": "code",
   "execution_count": 16,
   "metadata": {},
   "outputs": [
    {
     "name": "stdout",
     "output_type": "stream",
     "text": [
      "O arquivo \"verba\"  possui 2718 linhas e 9 colunas\n"
     ]
    }
   ],
   "source": [
    "#Contador de linhas e colunas\n",
    "print('O arquivo \\\"verba\" ' ' possui ' + str(verba.shape[0]) + ' linhas e ' +str(verba.shape[1]) + ' colunas') "
   ]
  },
  {
   "cell_type": "code",
   "execution_count": 19,
   "metadata": {},
   "outputs": [
    {
     "data": {
      "text/plain": [
       "Gabinete                            float64\n",
       "Nome                                 object\n",
       "CPF                                  object\n",
       "Empresa (ou Profissional)            object\n",
       "CNPJ (ou CPF)                        object\n",
       "Data de Emissão              datetime64[ns]\n",
       "Mês                                 float64\n",
       "Nº Documento                         object\n",
       "Valor                               float64\n",
       "dtype: object"
      ]
     },
     "execution_count": 19,
     "metadata": {},
     "output_type": "execute_result"
    }
   ],
   "source": [
    "#verificando o tipo de dados que estamos trabalhando\n",
    "verba.dtypes"
   ]
  },
  {
   "cell_type": "code",
   "execution_count": 20,
   "metadata": {},
   "outputs": [
    {
     "data": {
      "text/html": [
       "<div>\n",
       "<style scoped>\n",
       "    .dataframe tbody tr th:only-of-type {\n",
       "        vertical-align: middle;\n",
       "    }\n",
       "\n",
       "    .dataframe tbody tr th {\n",
       "        vertical-align: top;\n",
       "    }\n",
       "\n",
       "    .dataframe thead th {\n",
       "        text-align: right;\n",
       "    }\n",
       "</style>\n",
       "<table border=\"1\" class=\"dataframe\">\n",
       "  <thead>\n",
       "    <tr style=\"text-align: right;\">\n",
       "      <th></th>\n",
       "      <th>Gabinete</th>\n",
       "      <th>Mês</th>\n",
       "      <th>Valor</th>\n",
       "    </tr>\n",
       "  </thead>\n",
       "  <tbody>\n",
       "    <tr>\n",
       "      <th>count</th>\n",
       "      <td>1129.000000</td>\n",
       "      <td>1116.000000</td>\n",
       "      <td>1129.000000</td>\n",
       "    </tr>\n",
       "    <tr>\n",
       "      <th>mean</th>\n",
       "      <td>13.281665</td>\n",
       "      <td>6.904122</td>\n",
       "      <td>1183.480877</td>\n",
       "    </tr>\n",
       "    <tr>\n",
       "      <th>std</th>\n",
       "      <td>6.121873</td>\n",
       "      <td>3.353432</td>\n",
       "      <td>2425.087125</td>\n",
       "    </tr>\n",
       "    <tr>\n",
       "      <th>min</th>\n",
       "      <td>2.000000</td>\n",
       "      <td>1.000000</td>\n",
       "      <td>15.000000</td>\n",
       "    </tr>\n",
       "    <tr>\n",
       "      <th>25%</th>\n",
       "      <td>8.000000</td>\n",
       "      <td>4.000000</td>\n",
       "      <td>100.000000</td>\n",
       "    </tr>\n",
       "    <tr>\n",
       "      <th>50%</th>\n",
       "      <td>15.000000</td>\n",
       "      <td>7.000000</td>\n",
       "      <td>180.000000</td>\n",
       "    </tr>\n",
       "    <tr>\n",
       "      <th>75%</th>\n",
       "      <td>17.000000</td>\n",
       "      <td>10.000000</td>\n",
       "      <td>266.190000</td>\n",
       "    </tr>\n",
       "    <tr>\n",
       "      <th>max</th>\n",
       "      <td>24.000000</td>\n",
       "      <td>12.000000</td>\n",
       "      <td>11100.000000</td>\n",
       "    </tr>\n",
       "  </tbody>\n",
       "</table>\n",
       "</div>"
      ],
      "text/plain": [
       "          Gabinete          Mês         Valor\n",
       "count  1129.000000  1116.000000   1129.000000\n",
       "mean     13.281665     6.904122   1183.480877\n",
       "std       6.121873     3.353432   2425.087125\n",
       "min       2.000000     1.000000     15.000000\n",
       "25%       8.000000     4.000000    100.000000\n",
       "50%      15.000000     7.000000    180.000000\n",
       "75%      17.000000    10.000000    266.190000\n",
       "max      24.000000    12.000000  11100.000000"
      ]
     },
     "execution_count": 20,
     "metadata": {},
     "output_type": "execute_result"
    }
   ],
   "source": [
    "#Indormação de todas as colunas númericas para vermos se há algum valor indevido\n",
    "verba.describe() "
   ]
  },
  {
   "cell_type": "code",
   "execution_count": 21,
   "metadata": {},
   "outputs": [],
   "source": [
    "# Retirando colunas que não iremos utilizar\n",
    "#verba.drop(['' ], axis = 1, inplace = True)"
   ]
  },
  {
   "cell_type": "code",
   "execution_count": 84,
   "metadata": {},
   "outputs": [
    {
     "data": {
      "text/plain": [
       "Index(['Gabinete', 'Deputado', 'CPF', 'Fornecedor', 'CNPJ (ou CPF)', 'Data',\n",
       "       'Mês', 'Nº Documento', 'Valor'],\n",
       "      dtype='object')"
      ]
     },
     "execution_count": 84,
     "metadata": {},
     "output_type": "execute_result"
    }
   ],
   "source": [
    "verba.columns"
   ]
  },
  {
   "cell_type": "code",
   "execution_count": 83,
   "metadata": {},
   "outputs": [],
   "source": [
    "#Alterando o nome de algumas colunas\n",
    "verba.columns = ['Gabinete', 'Deputado', 'CPF', 'Fornecedor', 'CNPJ (ou CPF)',\n",
    "       'Data', 'Mês', 'Nº Documento', 'Valor']"
   ]
  },
  {
   "cell_type": "code",
   "execution_count": 85,
   "metadata": {},
   "outputs": [],
   "source": [
    "#Removendo linhas cuja o campo das colunas estão vazios\n",
    "verba = verba.dropna(subset=  ['Valor'], axis=0) \n",
    "verba = verba.dropna(subset= ['Deputado'], axis=0)"
   ]
  },
  {
   "cell_type": "code",
   "execution_count": 86,
   "metadata": {},
   "outputs": [],
   "source": [
    "#Criando uma coluna \n",
    "verba['Contador'] = 0"
   ]
  },
  {
   "cell_type": "code",
   "execution_count": 87,
   "metadata": {},
   "outputs": [
    {
     "name": "stdout",
     "output_type": "stream",
     "text": [
      "0     500.0\n",
      "1     500.0\n",
      "2    6000.0\n",
      "3     500.0\n",
      "4     500.0\n",
      "Name: Valor, dtype: float64\n"
     ]
    }
   ],
   "source": [
    "print(verba['Valor'].head(5))"
   ]
  },
  {
   "cell_type": "code",
   "execution_count": 88,
   "metadata": {},
   "outputs": [
    {
     "data": {
      "text/plain": [
       "['Deputada Liliane Roriz',\n",
       " 'Deputada Luzia de Paula',\n",
       " 'Deputada Sandra Faraj',\n",
       " 'Deputada Telma Rufino',\n",
       " 'Deputado Bispo Renato Andrade',\n",
       " 'Deputado Chico Vigilante',\n",
       " 'Deputado Cláudio Abrantes',\n",
       " 'Deputado Cristiano Araújo',\n",
       " 'Deputado Juarezão',\n",
       " 'Deputado Wellington Luiz']"
      ]
     },
     "execution_count": 88,
     "metadata": {},
     "output_type": "execute_result"
    }
   ],
   "source": [
    "#Vai armazenar cada político e seu respectivo gasto\n",
    "despesas_deputado = {}\n",
    "nome_deputado = verba['Deputado'].unique()\n",
    "list(nome_deputado)"
   ]
  },
  {
   "cell_type": "code",
   "execution_count": 89,
   "metadata": {},
   "outputs": [
    {
     "data": {
      "text/html": [
       "<div>\n",
       "<style scoped>\n",
       "    .dataframe tbody tr th:only-of-type {\n",
       "        vertical-align: middle;\n",
       "    }\n",
       "\n",
       "    .dataframe tbody tr th {\n",
       "        vertical-align: top;\n",
       "    }\n",
       "\n",
       "    .dataframe thead th {\n",
       "        text-align: right;\n",
       "    }\n",
       "</style>\n",
       "<table border=\"1\" class=\"dataframe\">\n",
       "  <thead>\n",
       "    <tr style=\"text-align: right;\">\n",
       "      <th></th>\n",
       "      <th>VALOR</th>\n",
       "    </tr>\n",
       "  </thead>\n",
       "  <tbody>\n",
       "    <tr>\n",
       "      <th>Deputada Liliane Roriz</th>\n",
       "      <td>72890.00</td>\n",
       "    </tr>\n",
       "    <tr>\n",
       "      <th>Deputada Luzia de Paula</th>\n",
       "      <td>108629.92</td>\n",
       "    </tr>\n",
       "    <tr>\n",
       "      <th>Deputada Sandra Faraj</th>\n",
       "      <td>25504.10</td>\n",
       "    </tr>\n",
       "    <tr>\n",
       "      <th>Deputada Telma Rufino</th>\n",
       "      <td>81721.50</td>\n",
       "    </tr>\n",
       "    <tr>\n",
       "      <th>Deputado Bispo Renato Andrade</th>\n",
       "      <td>164511.46</td>\n",
       "    </tr>\n",
       "    <tr>\n",
       "      <th>Deputado Chico Vigilante</th>\n",
       "      <td>286759.95</td>\n",
       "    </tr>\n",
       "    <tr>\n",
       "      <th>Deputado Cláudio Abrantes</th>\n",
       "      <td>205399.96</td>\n",
       "    </tr>\n",
       "    <tr>\n",
       "      <th>Deputado Cristiano Araújo</th>\n",
       "      <td>199442.13</td>\n",
       "    </tr>\n",
       "    <tr>\n",
       "      <th>Deputado Juarezão</th>\n",
       "      <td>184490.89</td>\n",
       "    </tr>\n",
       "    <tr>\n",
       "      <th>Deputado Wellington Luiz</th>\n",
       "      <td>6800.00</td>\n",
       "    </tr>\n",
       "  </tbody>\n",
       "</table>\n",
       "</div>"
      ],
      "text/plain": [
       "                                   VALOR\n",
       "Deputada Liliane Roriz          72890.00\n",
       "Deputada Luzia de Paula        108629.92\n",
       "Deputada Sandra Faraj           25504.10\n",
       "Deputada Telma Rufino           81721.50\n",
       "Deputado Bispo Renato Andrade  164511.46\n",
       "Deputado Chico Vigilante       286759.95\n",
       "Deputado Cláudio Abrantes      205399.96\n",
       "Deputado Cristiano Araújo      199442.13\n",
       "Deputado Juarezão              184490.89\n",
       "Deputado Wellington Luiz         6800.00"
      ]
     },
     "execution_count": 89,
     "metadata": {},
     "output_type": "execute_result"
    }
   ],
   "source": [
    "#Efetuando o agrupamento das despesas dos deputados e somando.\n",
    "for i in nome_deputado: \n",
    "    i_nome = verba[verba['Deputado'] == i]\n",
    "    total_gastos = i_nome['Valor'].sum()\n",
    "    despesas_deputado[i] = total_gastos\n",
    "    gastos_por_deputados = pd.DataFrame.from_dict(despesas_deputado, orient='index') \n",
    "    gastos_por_deputados.columns = ['VALOR'] #Adicionando um nome a coluna númerica\n",
    "gastos_por_deputados.head(10)"
   ]
  },
  {
   "cell_type": "code",
   "execution_count": 90,
   "metadata": {},
   "outputs": [
    {
     "data": {
      "image/png": "[encoded data removed]",
      "text/plain": [
       "<matplotlib.figure.Figure at 0x18aebd5c3c8>"
      ]
     },
     "metadata": {},
     "output_type": "display_data"
    }
   ],
   "source": [
    "#Ordenando os valores do dataframe\n",
    "gastos_por_deputados = gastos_por_deputados.sort_values(by = 'VALOR', ascending=False) \n",
    "gastos_por_deputados.plot(kind='barh' , color='green', grid =True, alpha=0.8) \n",
    "plt.title('Gastos por Deputado') #Titulo para o gráfico\n",
    "plt.xlabel('Valor gasto em 2017') # Legenda para o eixo x\n",
    "#plt.ylabel('Deputado') #Legenda para o eixo y\n",
    "plt.show()"
   ]
  },
  {
   "cell_type": "markdown",
   "metadata": {},
   "source": [
    "> ### Notamos que o Deputado Chico Vigilante foi o deputado que teve maiores gastos púbicos no ano de 2017\n",
    "> #### Agora devemos reponder as seguintes perguntas;\n",
    "\n",
    "> Quais foram os seus fornecedores?\n",
    "\n",
    "> Quais fornecedores receberam os maiores valores?\n",
    "\n",
    "> Qual o periódo do ano ele mais gastou?"
   ]
  },
  {
   "cell_type": "code",
   "execution_count": 91,
   "metadata": {},
   "outputs": [
    {
     "data": {
      "text/plain": [
       "140"
      ]
     },
     "execution_count": 91,
     "metadata": {},
     "output_type": "execute_result"
    }
   ],
   "source": [
    "#Conta a quantidade de linhas do arquivo, quantidade de regitros de contas lançados pelo deputado\n",
    "maior_gasto = verba[verba['Deputado'] == 'Deputado Chico Vigilante'].reset_index()\n",
    "maior_gasto.shape[0] "
   ]
  },
  {
   "cell_type": "code",
   "execution_count": 92,
   "metadata": {},
   "outputs": [
    {
     "data": {
      "text/html": [
       "<div>\n",
       "<style scoped>\n",
       "    .dataframe tbody tr th:only-of-type {\n",
       "        vertical-align: middle;\n",
       "    }\n",
       "\n",
       "    .dataframe tbody tr th {\n",
       "        vertical-align: top;\n",
       "    }\n",
       "\n",
       "    .dataframe thead th {\n",
       "        text-align: right;\n",
       "    }\n",
       "</style>\n",
       "<table border=\"1\" class=\"dataframe\">\n",
       "  <thead>\n",
       "    <tr style=\"text-align: right;\">\n",
       "      <th></th>\n",
       "      <th>index</th>\n",
       "      <th>Gabinete</th>\n",
       "      <th>Deputado</th>\n",
       "      <th>CPF</th>\n",
       "      <th>Fornecedor</th>\n",
       "      <th>CNPJ (ou CPF)</th>\n",
       "      <th>Data</th>\n",
       "      <th>Mês</th>\n",
       "      <th>Nº Documento</th>\n",
       "      <th>Valor</th>\n",
       "      <th>Contador</th>\n",
       "    </tr>\n",
       "  </thead>\n",
       "  <tbody>\n",
       "    <tr>\n",
       "      <th>0</th>\n",
       "      <td>504</td>\n",
       "      <td>9.0</td>\n",
       "      <td>Deputado Chico Vigilante</td>\n",
       "      <td>297.313.721-72</td>\n",
       "      <td>GERVÁSIO VAZ DA SILVA</td>\n",
       "      <td>098.602.581-04</td>\n",
       "      <td>2017-01-30</td>\n",
       "      <td>1.0</td>\n",
       "      <td>S/N</td>\n",
       "      <td>6000.00</td>\n",
       "      <td>0</td>\n",
       "    </tr>\n",
       "    <tr>\n",
       "      <th>1</th>\n",
       "      <td>505</td>\n",
       "      <td>9.0</td>\n",
       "      <td>Deputado Chico Vigilante</td>\n",
       "      <td>297.313.721-72</td>\n",
       "      <td>GVT/VIVO</td>\n",
       "      <td>02.558.157/0001-62</td>\n",
       "      <td>2017-01-13</td>\n",
       "      <td>1.0</td>\n",
       "      <td>57912</td>\n",
       "      <td>786.96</td>\n",
       "      <td>0</td>\n",
       "    </tr>\n",
       "    <tr>\n",
       "      <th>2</th>\n",
       "      <td>506</td>\n",
       "      <td>9.0</td>\n",
       "      <td>Deputado Chico Vigilante</td>\n",
       "      <td>297.313.721-72</td>\n",
       "      <td>CEB</td>\n",
       "      <td>07.522.669/0001-92</td>\n",
       "      <td>2017-01-12</td>\n",
       "      <td>1.0</td>\n",
       "      <td>20194</td>\n",
       "      <td>184.50</td>\n",
       "      <td>0</td>\n",
       "    </tr>\n",
       "    <tr>\n",
       "      <th>3</th>\n",
       "      <td>507</td>\n",
       "      <td>9.0</td>\n",
       "      <td>Deputado Chico Vigilante</td>\n",
       "      <td>297.313.721-72</td>\n",
       "      <td>CAESB</td>\n",
       "      <td>00.082.024/0001-37</td>\n",
       "      <td>2017-01-09</td>\n",
       "      <td>1.0</td>\n",
       "      <td>180054</td>\n",
       "      <td>145.20</td>\n",
       "      <td>0</td>\n",
       "    </tr>\n",
       "    <tr>\n",
       "      <th>4</th>\n",
       "      <td>508</td>\n",
       "      <td>9.0</td>\n",
       "      <td>Deputado Chico Vigilante</td>\n",
       "      <td>297.313.721-72</td>\n",
       "      <td>AUTO POSTO MILLENNIUM 2000 LTDA</td>\n",
       "      <td>03.261.491/0005-46</td>\n",
       "      <td>2017-01-19</td>\n",
       "      <td>1.0</td>\n",
       "      <td>517475</td>\n",
       "      <td>100.00</td>\n",
       "      <td>0</td>\n",
       "    </tr>\n",
       "  </tbody>\n",
       "</table>\n",
       "</div>"
      ],
      "text/plain": [
       "   index  Gabinete                  Deputado             CPF  \\\n",
       "0    504       9.0  Deputado Chico Vigilante  297.313.721-72   \n",
       "1    505       9.0  Deputado Chico Vigilante  297.313.721-72   \n",
       "2    506       9.0  Deputado Chico Vigilante  297.313.721-72   \n",
       "3    507       9.0  Deputado Chico Vigilante  297.313.721-72   \n",
       "4    508       9.0  Deputado Chico Vigilante  297.313.721-72   \n",
       "\n",
       "                        Fornecedor       CNPJ (ou CPF)       Data  Mês  \\\n",
       "0            GERVÁSIO VAZ DA SILVA      098.602.581-04 2017-01-30  1.0   \n",
       "1                         GVT/VIVO  02.558.157/0001-62 2017-01-13  1.0   \n",
       "2                              CEB  07.522.669/0001-92 2017-01-12  1.0   \n",
       "3                            CAESB  00.082.024/0001-37 2017-01-09  1.0   \n",
       "4  AUTO POSTO MILLENNIUM 2000 LTDA  03.261.491/0005-46 2017-01-19  1.0   \n",
       "\n",
       "  Nº Documento    Valor  Contador  \n",
       "0          S/N  6000.00         0  \n",
       "1        57912   786.96         0  \n",
       "2        20194   184.50         0  \n",
       "3       180054   145.20         0  \n",
       "4       517475   100.00         0  "
      ]
     },
     "execution_count": 92,
     "metadata": {},
     "output_type": "execute_result"
    }
   ],
   "source": [
    "maior_gasto.head()"
   ]
  },
  {
   "cell_type": "code",
   "execution_count": 93,
   "metadata": {},
   "outputs": [],
   "source": [
    "#Função que retorna um Dataframe com os valores agrupados no ano gastos pelo deputado\n",
    "def gastos_fornecedor(deputado_):\n",
    "    nome_deputado = verba[verba['Deputado'] == deputado_ ]\n",
    "    nome_deputado = nome_deputado.groupby('Fornecedor')[['Deputado', 'Valor']].sum()\n",
    "    return nome_deputado"
   ]
  },
  {
   "cell_type": "code",
   "execution_count": 55,
   "metadata": {},
   "outputs": [
    {
     "data": {
      "image/png": "[encoded data removed]",
      "text/plain": [
       "<matplotlib.figure.Figure at 0x18aeba30080>"
      ]
     },
     "metadata": {},
     "output_type": "display_data"
    }
   ],
   "source": [
    "#Aplicando a função nos itens do Deputado Chico Vigilante\n",
    "#Essa função pode ser aplicada para todos os deputados da lista\n",
    "chico_vigilante = gastos_fornecedor('Deputado Chico Vigilante')\n",
    "chico_vigilante = chico_vigilante.sort_values(by = 'Valor' , ascending = False)\n",
    "chico_vigilante.head(15).plot(kind='barh', color= 'green', grid= True, title='Deputado Chico Vigilante')\n",
    "plt.xlabel('Despesas') # Legenda para o eixo x\n",
    "plt.show()"
   ]
  },
  {
   "cell_type": "markdown",
   "metadata": {},
   "source": [
    ".\n"
   ]
  },
  {
   "cell_type": "code",
   "execution_count": 94,
   "metadata": {},
   "outputs": [
    {
     "data": {
      "image/png": "[encoded data removed]",
      "text/plain": [
       "<matplotlib.figure.Figure at 0x18aebd39550>"
      ]
     },
     "metadata": {},
     "output_type": "display_data"
    }
   ],
   "source": [
    "#Qual foi o gasto mensal do Deputado Chico Vigilante?\n",
    "#mensal_deputado = verba['Fornecedor']\n",
    "mensal_deputado = verba.groupby('Mês')['Valor'].sum()\n",
    "mensal_deputado.plot(title = 'Gastos por mês dos Deputados' , color = 'green', grid = True)\n",
    "plt.ylabel('Gasto em R$')\n",
    "plt.xlabel('Mês')\n",
    "plt.show()"
   ]
  },
  {
   "cell_type": "markdown",
   "metadata": {},
   "source": [
    "#Percebemos que o mês 7 foi o menor gasto do ano, pegando valor total gasto no mês 7\n",
    "mes = verba[verba['Mês'] == 5]['Valor'].sum()\n",
    "verba.groupby('Mês')['Valor'].sum()"
   ]
  },
  {
   "cell_type": "markdown",
   "metadata": {},
   "source": []
  },
  {
   "cell_type": "code",
   "execution_count": 1,
   "metadata": {},
   "outputs": [],
   "source": [
    "# dsda"
   ]
  },
  {
   "cell_type": "markdown",
   "metadata": {},
   "source": [
    "dsadas"
   ]
  },
  {
   "cell_type": "code",
   "execution_count": null,
   "metadata": {},
   "outputs": [],
   "source": []
  }
 ],
 "metadata": {
  "kernelspec": {
   "display_name": "Python 3",
   "language": "python",
   "name": "python3"
  },
  "language_info": {
   "codemirror_mode": {
    "name": "ipython",
    "version": 3
   },
   "file_extension": ".py",
   "mimetype": "text/x-python",
   "name": "python",
   "nbconvert_exporter": "python",
   "pygments_lexer": "ipython3",
   "version": "3.6.6"
  }
 },
 "nbformat": 4,
 "nbformat_minor": 2
}
